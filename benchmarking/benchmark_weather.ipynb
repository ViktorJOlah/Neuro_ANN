{
  "nbformat": 4,
  "nbformat_minor": 0,
  "metadata": {
    "colab": {
      "provenance": [],
      "collapsed_sections": [],
      "include_colab_link": true
    },
    "kernelspec": {
      "name": "python3",
      "display_name": "Python 3"
    },
    "accelerator": "GPU"
  },
  "cells": [
    {
      "cell_type": "markdown",
      "metadata": {
        "id": "view-in-github",
        "colab_type": "text"
      },
      "source": [
        "<a href=\"https://colab.research.google.com/github/ViktorJOlah/Neuro_ANN/blob/main/benchmarking/benchmark_weather.ipynb\" target=\"_parent\"><img src=\"https://colab.research.google.com/assets/colab-badge.svg\" alt=\"Open In Colab\"/></a>"
      ]
    },
    {
      "cell_type": "markdown",
      "metadata": {
        "id": "f9x8mZpFkSPc"
      },
      "source": [
        "**Benchmarking different Neural Net architectures on the weather time series dataset recorded by the Max Plank Institute for Biogeochemistry**\n",
        "\n",
        "This dataset contains 14 different features such as air temperature, atmospheric pressure, and humidity. These were collected every 10 minutes, beginning in 2003. For efficiency, you will use only the data collected between 2009 and 2016. This section of the dataset was prepared by François Chollet for his book Deep Learning with Python. The code is also available at https://www.tensorflow.org/tutorials/structured_data/time_series , with the exception of the Neural Net architectures. \n"
      ]
    },
    {
      "cell_type": "markdown",
      "metadata": {
        "id": "6RD5gw-El-Sp"
      },
      "source": [
        "SETUP"
      ]
    },
    {
      "cell_type": "code",
      "metadata": {
        "id": "VkL0J1fll7oZ"
      },
      "source": [
        "import os\n",
        "import datetime\n",
        "\n",
        "import IPython\n",
        "import IPython.display\n",
        "import matplotlib as mpl\n",
        "import matplotlib.pyplot as plt\n",
        "import numpy as np\n",
        "import pandas as pd\n",
        "import seaborn as sns\n",
        "import tensorflow as tf\n",
        "\n",
        "mpl.rcParams['figure.figsize'] = (8, 6)\n",
        "mpl.rcParams['axes.grid'] = False\n",
        "\n",
        "zip_path = tf.keras.utils.get_file(\n",
        "    origin='https://storage.googleapis.com/tensorflow/tf-keras-datasets/jena_climate_2009_2016.csv.zip',\n",
        "    fname='jena_climate_2009_2016.csv.zip',\n",
        "    extract=True)\n",
        "csv_path, _ = os.path.splitext(zip_path)"
      ],
      "execution_count": null,
      "outputs": []
    },
    {
      "cell_type": "markdown",
      "metadata": {
        "id": "Zd0lDTcVmOg5"
      },
      "source": [
        "We will deal with hourly predictions, so start by sub-sampling the data from 10 minute intervals to 1h:"
      ]
    },
    {
      "cell_type": "code",
      "metadata": {
        "id": "gV8e_w9CmNFx"
      },
      "source": [
        "df = pd.read_csv(csv_path)\n",
        "# slice [start:stop:step], starting from index 5 take every 6th record.\n",
        "df = df[5::6]\n",
        "\n",
        "date_time = pd.to_datetime(df.pop('Date Time'), format='%d.%m.%Y %H:%M:%S')"
      ],
      "execution_count": null,
      "outputs": []
    },
    {
      "cell_type": "markdown",
      "metadata": {
        "id": "reXlqaPHmVdp"
      },
      "source": [
        "Let's take a glance at the data. Here are the first few rows:"
      ]
    },
    {
      "cell_type": "code",
      "metadata": {
        "id": "ABvX8lFzmWMZ",
        "colab": {
          "base_uri": "https://localhost:8080/",
          "height": 204
        },
        "outputId": "a0ccd8bd-2785-4186-fc25-e5c4f6e8cc2f"
      },
      "source": [
        "df.head()"
      ],
      "execution_count": null,
      "outputs": [
        {
          "output_type": "execute_result",
          "data": {
            "text/html": [
              "<div>\n",
              "<style scoped>\n",
              "    .dataframe tbody tr th:only-of-type {\n",
              "        vertical-align: middle;\n",
              "    }\n",
              "\n",
              "    .dataframe tbody tr th {\n",
              "        vertical-align: top;\n",
              "    }\n",
              "\n",
              "    .dataframe thead th {\n",
              "        text-align: right;\n",
              "    }\n",
              "</style>\n",
              "<table border=\"1\" class=\"dataframe\">\n",
              "  <thead>\n",
              "    <tr style=\"text-align: right;\">\n",
              "      <th></th>\n",
              "      <th>p (mbar)</th>\n",
              "      <th>T (degC)</th>\n",
              "      <th>Tpot (K)</th>\n",
              "      <th>Tdew (degC)</th>\n",
              "      <th>rh (%)</th>\n",
              "      <th>VPmax (mbar)</th>\n",
              "      <th>VPact (mbar)</th>\n",
              "      <th>VPdef (mbar)</th>\n",
              "      <th>sh (g/kg)</th>\n",
              "      <th>H2OC (mmol/mol)</th>\n",
              "      <th>rho (g/m**3)</th>\n",
              "      <th>wv (m/s)</th>\n",
              "      <th>max. wv (m/s)</th>\n",
              "      <th>wd (deg)</th>\n",
              "    </tr>\n",
              "  </thead>\n",
              "  <tbody>\n",
              "    <tr>\n",
              "      <th>5</th>\n",
              "      <td>996.50</td>\n",
              "      <td>-8.05</td>\n",
              "      <td>265.38</td>\n",
              "      <td>-8.78</td>\n",
              "      <td>94.4</td>\n",
              "      <td>3.33</td>\n",
              "      <td>3.14</td>\n",
              "      <td>0.19</td>\n",
              "      <td>1.96</td>\n",
              "      <td>3.15</td>\n",
              "      <td>1307.86</td>\n",
              "      <td>0.21</td>\n",
              "      <td>0.63</td>\n",
              "      <td>192.7</td>\n",
              "    </tr>\n",
              "    <tr>\n",
              "      <th>11</th>\n",
              "      <td>996.62</td>\n",
              "      <td>-8.88</td>\n",
              "      <td>264.54</td>\n",
              "      <td>-9.77</td>\n",
              "      <td>93.2</td>\n",
              "      <td>3.12</td>\n",
              "      <td>2.90</td>\n",
              "      <td>0.21</td>\n",
              "      <td>1.81</td>\n",
              "      <td>2.91</td>\n",
              "      <td>1312.25</td>\n",
              "      <td>0.25</td>\n",
              "      <td>0.63</td>\n",
              "      <td>190.3</td>\n",
              "    </tr>\n",
              "    <tr>\n",
              "      <th>17</th>\n",
              "      <td>996.84</td>\n",
              "      <td>-8.81</td>\n",
              "      <td>264.59</td>\n",
              "      <td>-9.66</td>\n",
              "      <td>93.5</td>\n",
              "      <td>3.13</td>\n",
              "      <td>2.93</td>\n",
              "      <td>0.20</td>\n",
              "      <td>1.83</td>\n",
              "      <td>2.94</td>\n",
              "      <td>1312.18</td>\n",
              "      <td>0.18</td>\n",
              "      <td>0.63</td>\n",
              "      <td>167.2</td>\n",
              "    </tr>\n",
              "    <tr>\n",
              "      <th>23</th>\n",
              "      <td>996.99</td>\n",
              "      <td>-9.05</td>\n",
              "      <td>264.34</td>\n",
              "      <td>-10.02</td>\n",
              "      <td>92.6</td>\n",
              "      <td>3.07</td>\n",
              "      <td>2.85</td>\n",
              "      <td>0.23</td>\n",
              "      <td>1.78</td>\n",
              "      <td>2.85</td>\n",
              "      <td>1313.61</td>\n",
              "      <td>0.10</td>\n",
              "      <td>0.38</td>\n",
              "      <td>240.0</td>\n",
              "    </tr>\n",
              "    <tr>\n",
              "      <th>29</th>\n",
              "      <td>997.46</td>\n",
              "      <td>-9.63</td>\n",
              "      <td>263.72</td>\n",
              "      <td>-10.65</td>\n",
              "      <td>92.2</td>\n",
              "      <td>2.94</td>\n",
              "      <td>2.71</td>\n",
              "      <td>0.23</td>\n",
              "      <td>1.69</td>\n",
              "      <td>2.71</td>\n",
              "      <td>1317.19</td>\n",
              "      <td>0.40</td>\n",
              "      <td>0.88</td>\n",
              "      <td>157.0</td>\n",
              "    </tr>\n",
              "  </tbody>\n",
              "</table>\n",
              "</div>"
            ],
            "text/plain": [
              "    p (mbar)  T (degC)  Tpot (K)  ...  wv (m/s)  max. wv (m/s)  wd (deg)\n",
              "5     996.50     -8.05    265.38  ...      0.21           0.63     192.7\n",
              "11    996.62     -8.88    264.54  ...      0.25           0.63     190.3\n",
              "17    996.84     -8.81    264.59  ...      0.18           0.63     167.2\n",
              "23    996.99     -9.05    264.34  ...      0.10           0.38     240.0\n",
              "29    997.46     -9.63    263.72  ...      0.40           0.88     157.0\n",
              "\n",
              "[5 rows x 14 columns]"
            ]
          },
          "metadata": {
            "tags": []
          },
          "execution_count": 37
        }
      ]
    },
    {
      "cell_type": "markdown",
      "metadata": {
        "id": "5vb3H4wbmYeq"
      },
      "source": [
        "Here is the evolution of a few features over time."
      ]
    },
    {
      "cell_type": "code",
      "metadata": {
        "id": "nhjjGo77maLx",
        "colab": {
          "base_uri": "https://localhost:8080/",
          "height": 739
        },
        "outputId": "e701ef51-f9df-41d7-b5fe-c2e82797a7a8"
      },
      "source": [
        "plot_cols = ['T (degC)', 'p (mbar)', 'rho (g/m**3)']\n",
        "plot_features = df[plot_cols]\n",
        "plot_features.index = date_time\n",
        "_ = plot_features.plot(subplots=True)\n",
        "\n",
        "plot_features = df[plot_cols][:480]\n",
        "plot_features.index = date_time[:480]\n",
        "_ = plot_features.plot(subplots=True)"
      ],
      "execution_count": null,
      "outputs": [
        {
          "output_type": "display_data",
          "data": {
            "image/png": "[encoded data removed]",
            "text/plain": [
              "<Figure size 576x432 with 3 Axes>"
            ]
          },
          "metadata": {
            "tags": [],
            "needs_background": "light"
          }
        },
        {
          "output_type": "display_data",
          "data": {
            "image/png": "[encoded data removed]",
            "text/plain": [
              "<Figure size 576x432 with 3 Axes>"
            ]
          },
          "metadata": {
            "tags": [],
            "needs_background": "light"
          }
        }
      ]
    },
    {
      "cell_type": "markdown",
      "metadata": {
        "id": "dHBRLwEtmjLp"
      },
      "source": [
        "***INSPECT AND CLEANUP***\n",
        "\n",
        "Next look at the statistics of the dataset:"
      ]
    },
    {
      "cell_type": "code",
      "metadata": {
        "id": "qNriLbAimekF",
        "colab": {
          "base_uri": "https://localhost:8080/",
          "height": 483
        },
        "outputId": "482429cb-25c8-4c1c-8114-764d89180b3e"
      },
      "source": [
        "df.describe().transpose()"
      ],
      "execution_count": null,
      "outputs": [
        {
          "output_type": "execute_result",
          "data": {
            "text/html": [
              "<div>\n",
              "<style scoped>\n",
              "    .dataframe tbody tr th:only-of-type {\n",
              "        vertical-align: middle;\n",
              "    }\n",
              "\n",
              "    .dataframe tbody tr th {\n",
              "        vertical-align: top;\n",
              "    }\n",
              "\n",
              "    .dataframe thead th {\n",
              "        text-align: right;\n",
              "    }\n",
              "</style>\n",
              "<table border=\"1\" class=\"dataframe\">\n",
              "  <thead>\n",
              "    <tr style=\"text-align: right;\">\n",
              "      <th></th>\n",
              "      <th>count</th>\n",
              "      <th>mean</th>\n",
              "      <th>std</th>\n",
              "      <th>min</th>\n",
              "      <th>25%</th>\n",
              "      <th>50%</th>\n",
              "      <th>75%</th>\n",
              "      <th>max</th>\n",
              "    </tr>\n",
              "  </thead>\n",
              "  <tbody>\n",
              "    <tr>\n",
              "      <th>p (mbar)</th>\n",
              "      <td>70091.0</td>\n",
              "      <td>989.212842</td>\n",
              "      <td>8.358886</td>\n",
              "      <td>913.60</td>\n",
              "      <td>984.20</td>\n",
              "      <td>989.57</td>\n",
              "      <td>994.720</td>\n",
              "      <td>1015.29</td>\n",
              "    </tr>\n",
              "    <tr>\n",
              "      <th>T (degC)</th>\n",
              "      <td>70091.0</td>\n",
              "      <td>9.450482</td>\n",
              "      <td>8.423384</td>\n",
              "      <td>-22.76</td>\n",
              "      <td>3.35</td>\n",
              "      <td>9.41</td>\n",
              "      <td>15.480</td>\n",
              "      <td>37.28</td>\n",
              "    </tr>\n",
              "    <tr>\n",
              "      <th>Tpot (K)</th>\n",
              "      <td>70091.0</td>\n",
              "      <td>283.493086</td>\n",
              "      <td>8.504424</td>\n",
              "      <td>250.85</td>\n",
              "      <td>277.44</td>\n",
              "      <td>283.46</td>\n",
              "      <td>289.530</td>\n",
              "      <td>311.21</td>\n",
              "    </tr>\n",
              "    <tr>\n",
              "      <th>Tdew (degC)</th>\n",
              "      <td>70091.0</td>\n",
              "      <td>4.956471</td>\n",
              "      <td>6.730081</td>\n",
              "      <td>-24.80</td>\n",
              "      <td>0.24</td>\n",
              "      <td>5.21</td>\n",
              "      <td>10.080</td>\n",
              "      <td>23.06</td>\n",
              "    </tr>\n",
              "    <tr>\n",
              "      <th>rh (%)</th>\n",
              "      <td>70091.0</td>\n",
              "      <td>76.009788</td>\n",
              "      <td>16.474920</td>\n",
              "      <td>13.88</td>\n",
              "      <td>65.21</td>\n",
              "      <td>79.30</td>\n",
              "      <td>89.400</td>\n",
              "      <td>100.00</td>\n",
              "    </tr>\n",
              "    <tr>\n",
              "      <th>VPmax (mbar)</th>\n",
              "      <td>70091.0</td>\n",
              "      <td>13.576576</td>\n",
              "      <td>7.739883</td>\n",
              "      <td>0.97</td>\n",
              "      <td>7.77</td>\n",
              "      <td>11.82</td>\n",
              "      <td>17.610</td>\n",
              "      <td>63.77</td>\n",
              "    </tr>\n",
              "    <tr>\n",
              "      <th>VPact (mbar)</th>\n",
              "      <td>70091.0</td>\n",
              "      <td>9.533968</td>\n",
              "      <td>4.183658</td>\n",
              "      <td>0.81</td>\n",
              "      <td>6.22</td>\n",
              "      <td>8.86</td>\n",
              "      <td>12.360</td>\n",
              "      <td>28.25</td>\n",
              "    </tr>\n",
              "    <tr>\n",
              "      <th>VPdef (mbar)</th>\n",
              "      <td>70091.0</td>\n",
              "      <td>4.042536</td>\n",
              "      <td>4.898549</td>\n",
              "      <td>0.00</td>\n",
              "      <td>0.87</td>\n",
              "      <td>2.19</td>\n",
              "      <td>5.300</td>\n",
              "      <td>46.01</td>\n",
              "    </tr>\n",
              "    <tr>\n",
              "      <th>sh (g/kg)</th>\n",
              "      <td>70091.0</td>\n",
              "      <td>6.022560</td>\n",
              "      <td>2.655812</td>\n",
              "      <td>0.51</td>\n",
              "      <td>3.92</td>\n",
              "      <td>5.59</td>\n",
              "      <td>7.800</td>\n",
              "      <td>18.07</td>\n",
              "    </tr>\n",
              "    <tr>\n",
              "      <th>H2OC (mmol/mol)</th>\n",
              "      <td>70091.0</td>\n",
              "      <td>9.640437</td>\n",
              "      <td>4.234862</td>\n",
              "      <td>0.81</td>\n",
              "      <td>6.29</td>\n",
              "      <td>8.96</td>\n",
              "      <td>12.490</td>\n",
              "      <td>28.74</td>\n",
              "    </tr>\n",
              "    <tr>\n",
              "      <th>rho (g/m**3)</th>\n",
              "      <td>70091.0</td>\n",
              "      <td>1216.061232</td>\n",
              "      <td>39.974263</td>\n",
              "      <td>1059.45</td>\n",
              "      <td>1187.47</td>\n",
              "      <td>1213.80</td>\n",
              "      <td>1242.765</td>\n",
              "      <td>1393.54</td>\n",
              "    </tr>\n",
              "    <tr>\n",
              "      <th>wv (m/s)</th>\n",
              "      <td>70091.0</td>\n",
              "      <td>1.702567</td>\n",
              "      <td>65.447512</td>\n",
              "      <td>-9999.00</td>\n",
              "      <td>0.99</td>\n",
              "      <td>1.76</td>\n",
              "      <td>2.860</td>\n",
              "      <td>14.01</td>\n",
              "    </tr>\n",
              "    <tr>\n",
              "      <th>max. wv (m/s)</th>\n",
              "      <td>70091.0</td>\n",
              "      <td>2.963041</td>\n",
              "      <td>75.597657</td>\n",
              "      <td>-9999.00</td>\n",
              "      <td>1.76</td>\n",
              "      <td>2.98</td>\n",
              "      <td>4.740</td>\n",
              "      <td>23.50</td>\n",
              "    </tr>\n",
              "    <tr>\n",
              "      <th>wd (deg)</th>\n",
              "      <td>70091.0</td>\n",
              "      <td>174.789095</td>\n",
              "      <td>86.619431</td>\n",
              "      <td>0.00</td>\n",
              "      <td>125.30</td>\n",
              "      <td>198.10</td>\n",
              "      <td>234.000</td>\n",
              "      <td>360.00</td>\n",
              "    </tr>\n",
              "  </tbody>\n",
              "</table>\n",
              "</div>"
            ],
            "text/plain": [
              "                   count         mean        std  ...      50%       75%      max\n",
              "p (mbar)         70091.0   989.212842   8.358886  ...   989.57   994.720  1015.29\n",
              "T (degC)         70091.0     9.450482   8.423384  ...     9.41    15.480    37.28\n",
              "Tpot (K)         70091.0   283.493086   8.504424  ...   283.46   289.530   311.21\n",
              "Tdew (degC)      70091.0     4.956471   6.730081  ...     5.21    10.080    23.06\n",
              "rh (%)           70091.0    76.009788  16.474920  ...    79.30    89.400   100.00\n",
              "VPmax (mbar)     70091.0    13.576576   7.739883  ...    11.82    17.610    63.77\n",
              "VPact (mbar)     70091.0     9.533968   4.183658  ...     8.86    12.360    28.25\n",
              "VPdef (mbar)     70091.0     4.042536   4.898549  ...     2.19     5.300    46.01\n",
              "sh (g/kg)        70091.0     6.022560   2.655812  ...     5.59     7.800    18.07\n",
              "H2OC (mmol/mol)  70091.0     9.640437   4.234862  ...     8.96    12.490    28.74\n",
              "rho (g/m**3)     70091.0  1216.061232  39.974263  ...  1213.80  1242.765  1393.54\n",
              "wv (m/s)         70091.0     1.702567  65.447512  ...     1.76     2.860    14.01\n",
              "max. wv (m/s)    70091.0     2.963041  75.597657  ...     2.98     4.740    23.50\n",
              "wd (deg)         70091.0   174.789095  86.619431  ...   198.10   234.000   360.00\n",
              "\n",
              "[14 rows x 8 columns]"
            ]
          },
          "metadata": {
            "tags": []
          },
          "execution_count": 39
        }
      ]
    },
    {
      "cell_type": "markdown",
      "metadata": {
        "id": "WF0Ut3wkmrii"
      },
      "source": [
        "**Wind velocity**\n",
        "\n",
        "One thing that should stand out is the min value of the wind velocity, wv (m/s) and max. wv (m/s) columns. This -9999 is likely erroneous. There's a separate wind direction column, so the velocity should be >=0. Replace it with zeros:"
      ]
    },
    {
      "cell_type": "code",
      "metadata": {
        "id": "uvbsUarHmvep",
        "colab": {
          "base_uri": "https://localhost:8080/",
          "height": 34
        },
        "outputId": "45018148-1e44-4884-d879-41501f2117eb"
      },
      "source": [
        "wv = df['wv (m/s)']\n",
        "bad_wv = wv == -9999.0\n",
        "wv[bad_wv] = 0.0\n",
        "\n",
        "max_wv = df['max. wv (m/s)']\n",
        "bad_max_wv = max_wv == -9999.0\n",
        "max_wv[bad_max_wv] = 0.0\n",
        "\n",
        "# The above inplace edits are reflected in the DataFrame\n",
        "df['wv (m/s)'].min()"
      ],
      "execution_count": null,
      "outputs": [
        {
          "output_type": "execute_result",
          "data": {
            "text/plain": [
              "0.0"
            ]
          },
          "metadata": {
            "tags": []
          },
          "execution_count": 40
        }
      ]
    },
    {
      "cell_type": "markdown",
      "metadata": {
        "id": "PoCp7qMum1NJ"
      },
      "source": [
        "***FEATURE ENGINEERING***\n",
        "\n",
        "Before diving in to build a model it's important to understand your data, and be sure that you're passing the model appropriately formatted data.\n",
        "\n",
        "**Wind**\n",
        "\n",
        "The last column of the data, wd (deg), gives the wind direction in units of degrees. Angles do not make good model inputs, 360° and 0° should be close to each other, and wrap around smoothly. Direction shouldn't matter if the wind is not blowing.\n",
        "\n",
        "Right now the distribution of wind data looks like this:"
      ]
    },
    {
      "cell_type": "code",
      "metadata": {
        "id": "2gLmjMS-m5rh",
        "colab": {
          "base_uri": "https://localhost:8080/",
          "height": 409
        },
        "outputId": "50981e52-8e29-4d05-f409-09fd449ce45f"
      },
      "source": [
        "plt.hist2d(df['wd (deg)'], df['wv (m/s)'], bins=(50, 50), vmax=400)\n",
        "plt.colorbar()\n",
        "plt.xlabel('Wind Direction [deg]')\n",
        "plt.ylabel('Wind Velocity [m/s]')"
      ],
      "execution_count": null,
      "outputs": [
        {
          "output_type": "execute_result",
          "data": {
            "text/plain": [
              "Text(0, 0.5, 'Wind Velocity [m/s]')"
            ]
          },
          "metadata": {
            "tags": []
          },
          "execution_count": 41
        },
        {
          "output_type": "display_data",
          "data": {
            "image/png": "[encoded data removed]",
            "text/plain": [
              "<Figure size 576x432 with 2 Axes>"
            ]
          },
          "metadata": {
            "tags": [],
            "needs_background": "light"
          }
        }
      ]
    },
    {
      "cell_type": "markdown",
      "metadata": {
        "id": "Wov35gFXnLxg"
      },
      "source": [
        "But this will be easier for the model to interpret if you convert the wind direction and velocity columns to a wind vector:"
      ]
    },
    {
      "cell_type": "code",
      "metadata": {
        "id": "r8DoDv8cnML5"
      },
      "source": [
        "wv = df.pop('wv (m/s)')\n",
        "max_wv = df.pop('max. wv (m/s)')\n",
        "\n",
        "# Convert to radians.\n",
        "wd_rad = df.pop('wd (deg)')*np.pi / 180\n",
        "\n",
        "# Calculate the wind x and y components.\n",
        "df['Wx'] = wv*np.cos(wd_rad)\n",
        "df['Wy'] = wv*np.sin(wd_rad)\n",
        "\n",
        "# Calculate the max wind x and y components.\n",
        "df['max Wx'] = max_wv*np.cos(wd_rad)\n",
        "df['max Wy'] = max_wv*np.sin(wd_rad)"
      ],
      "execution_count": null,
      "outputs": []
    },
    {
      "cell_type": "markdown",
      "metadata": {
        "id": "f3Y1hDSGnPSp"
      },
      "source": [
        "The distribution of wind vectors is much simpler for the model to correctly interpret."
      ]
    },
    {
      "cell_type": "code",
      "metadata": {
        "id": "qkIpbHKanQBI",
        "colab": {
          "base_uri": "https://localhost:8080/",
          "height": 409
        },
        "outputId": "f648a9cc-9209-4545-8e23-8208935df409"
      },
      "source": [
        "plt.hist2d(df['Wx'], df['Wy'], bins=(50, 50), vmax=400)\n",
        "plt.colorbar()\n",
        "plt.xlabel('Wind X [m/s]')\n",
        "plt.ylabel('Wind Y [m/s]')\n",
        "ax = plt.gca()\n",
        "ax.axis('tight')"
      ],
      "execution_count": null,
      "outputs": [
        {
          "output_type": "execute_result",
          "data": {
            "text/plain": [
              "(-11.305513973134667, 8.24469928549079, -8.27438540335515, 7.7338312955467785)"
            ]
          },
          "metadata": {
            "tags": []
          },
          "execution_count": 43
        },
        {
          "output_type": "display_data",
          "data": {
            "image/png": "[encoded data removed]",
            "text/plain": [
              "<Figure size 576x432 with 2 Axes>"
            ]
          },
          "metadata": {
            "tags": [],
            "needs_background": "light"
          }
        }
      ]
    },
    {
      "cell_type": "markdown",
      "metadata": {
        "id": "oBktZ_lxnX8Y"
      },
      "source": [
        "**Time**\n",
        "\n",
        "Similarly the Date Time column is very useful, but not in this string form. Start by converting it to seconds:"
      ]
    },
    {
      "cell_type": "code",
      "metadata": {
        "id": "vtTUljrYnZCZ"
      },
      "source": [
        "timestamp_s = date_time.map(datetime.datetime.timestamp)"
      ],
      "execution_count": null,
      "outputs": []
    },
    {
      "cell_type": "markdown",
      "metadata": {
        "id": "AKNdm3dhnbGQ"
      },
      "source": [
        "Similar to the wind direction the time in seconds is not a useful model input. Being weather data it has clear daily and yearly periodicity. There are many ways you could deal with periodicity.\n",
        "\n",
        "A simple approach to convert it to a usable signal is to use sin and cos to convert the time to clear \"Time of day\" and \"Time of year\" signals:"
      ]
    },
    {
      "cell_type": "code",
      "metadata": {
        "id": "EYot9knrndR0"
      },
      "source": [
        "day = 24*60*60\n",
        "year = (365.2425)*day\n",
        "\n",
        "df['Day sin'] = np.sin(timestamp_s * (2 * np.pi / day))\n",
        "df['Day cos'] = np.cos(timestamp_s * (2 * np.pi / day))\n",
        "df['Year sin'] = np.sin(timestamp_s * (2 * np.pi / year))\n",
        "df['Year cos'] = np.cos(timestamp_s * (2 * np.pi / year))"
      ],
      "execution_count": null,
      "outputs": []
    },
    {
      "cell_type": "code",
      "metadata": {
        "id": "st9vLCtInkUI",
        "colab": {
          "base_uri": "https://localhost:8080/",
          "height": 421
        },
        "outputId": "6e6edef2-2415-4438-b565-d4056d592812"
      },
      "source": [
        "plt.plot(np.array(df['Day sin'])[:25])\n",
        "plt.plot(np.array(df['Day cos'])[:25])\n",
        "plt.xlabel('Time [h]')\n",
        "plt.title('Time of day signal')"
      ],
      "execution_count": null,
      "outputs": [
        {
          "output_type": "execute_result",
          "data": {
            "text/plain": [
              "Text(0.5, 1.0, 'Time of day signal')"
            ]
          },
          "metadata": {
            "tags": []
          },
          "execution_count": 46
        },
        {
          "output_type": "display_data",
          "data": {
            "image/png": "[encoded data removed]",
            "text/plain": [
              "<Figure size 576x432 with 1 Axes>"
            ]
          },
          "metadata": {
            "tags": [],
            "needs_background": "light"
          }
        }
      ]
    },
    {
      "cell_type": "markdown",
      "metadata": {
        "id": "o1K0yJGAnnla"
      },
      "source": [
        "This gives the model access to the most important frequency features. In this case we knew ahead of time which frequencies were important.\n",
        "\n",
        "If you didn't know, you can determine which frequencies are important using an fft. To check our assumptions, here is the tf.signal.rfft of the temperature over time. Note the obvious peaks at frequencies near 1/year and 1/day:"
      ]
    },
    {
      "cell_type": "code",
      "metadata": {
        "id": "Tb8St2vmnob4",
        "colab": {
          "base_uri": "https://localhost:8080/",
          "height": 392
        },
        "outputId": "4bf0fc11-9189-4788-9982-c6e9574de335"
      },
      "source": [
        "fft = tf.signal.rfft(df['T (degC)'])\n",
        "f_per_dataset = np.arange(0, len(fft))\n",
        "\n",
        "n_samples_h = len(df['T (degC)'])\n",
        "hours_per_year = 24*365.2524\n",
        "years_per_dataset = n_samples_h/(hours_per_year)\n",
        "\n",
        "f_per_year = f_per_dataset/years_per_dataset\n",
        "plt.step(f_per_year, np.abs(fft))\n",
        "plt.xscale('log')\n",
        "plt.ylim(0, 400000)\n",
        "plt.xlim([0.1, max(plt.xlim())])\n",
        "plt.xticks([1, 365.2524], labels=['1/Year', '1/day'])\n",
        "_ = plt.xlabel('Frequency (log scale)')"
      ],
      "execution_count": null,
      "outputs": [
        {
          "output_type": "display_data",
          "data": {
            "image/png": "[encoded data removed]",
            "text/plain": [
              "<Figure size 576x432 with 1 Axes>"
            ]
          },
          "metadata": {
            "tags": [],
            "needs_background": "light"
          }
        }
      ]
    },
    {
      "cell_type": "markdown",
      "metadata": {
        "id": "KisEt2OPnt2I"
      },
      "source": [
        "***SPLIT THE DATA***\n",
        "\n",
        "We'll use a (70%, 20%, 10%) split for the training, validation, and test sets. Note the data is not being randomly shuffled before splitting. This is for two reasons.\n",
        "\n",
        "-It ensures that chopping the data into windows of consecutive samples is still possible.\n",
        "\n",
        "-It ensures that the validation/test results are more realistic, being evaluated on data collected after the model was trained."
      ]
    },
    {
      "cell_type": "code",
      "metadata": {
        "id": "2jVkpZsIn2zJ"
      },
      "source": [
        "column_indices = {name: i for i, name in enumerate(df.columns)}\n",
        "\n",
        "n = len(df)\n",
        "train_df = df[0:int(n*0.7)]\n",
        "val_df = df[int(n*0.7):int(n*0.9)]\n",
        "test_df = df[int(n*0.9):]\n",
        "\n",
        "num_features = df.shape[1]"
      ],
      "execution_count": null,
      "outputs": []
    },
    {
      "cell_type": "markdown",
      "metadata": {
        "id": "YDtgDx_xn6aw"
      },
      "source": [
        "**Normalize the data**\n",
        "\n",
        "It is important to scale features before training a neural network. Normalization is a common way of doing this scaling. Subtract the mean and divide by the standard deviation of each feature.\n",
        "\n",
        "The mean and standard deviation should only be computed using the training data so that the models have no access to the values in the validation and test sets.\n",
        "\n",
        "It's also arguable that the model shouldn't have access to future values in the training set when training, and that this normalization should be done using moving averages. That's not the focus of this tutorial, and the validation and test sets ensure that we get (somewhat) honest metrics. So in the interest of simplicity this tutorial uses a simple average."
      ]
    },
    {
      "cell_type": "code",
      "metadata": {
        "id": "u5lMdWnIoEH2"
      },
      "source": [
        "train_mean = train_df.mean()\n",
        "train_std = train_df.std()\n",
        "\n",
        "train_df = (train_df - train_mean) / train_std\n",
        "val_df = (val_df - train_mean) / train_std\n",
        "test_df = (test_df - train_mean) / train_std"
      ],
      "execution_count": null,
      "outputs": []
    },
    {
      "cell_type": "markdown",
      "metadata": {
        "id": "QaywRxzDoGfw"
      },
      "source": [
        "Now peek at the distribution of the features. Some features do have long tails, but there are no obvious errors like the -9999 wind velocity value."
      ]
    },
    {
      "cell_type": "code",
      "metadata": {
        "id": "z1jB1fyNoHR7",
        "colab": {
          "base_uri": "https://localhost:8080/",
          "height": 467
        },
        "outputId": "802b9cb2-416a-476a-d8b8-cc77ce83037a"
      },
      "source": [
        "df_std = (df - train_mean) / train_std\n",
        "df_std = df_std.melt(var_name='Column', value_name='Normalized')\n",
        "plt.figure(figsize=(12, 6))\n",
        "ax = sns.violinplot(x='Column', y='Normalized', data=df_std)\n",
        "_ = ax.set_xticklabels(df.keys(), rotation=90)"
      ],
      "execution_count": null,
      "outputs": [
        {
          "output_type": "display_data",
          "data": {
            "image/png": "[encoded data removed]",
            "text/plain": [
              "<Figure size 864x432 with 1 Axes>"
            ]
          },
          "metadata": {
            "tags": [],
            "needs_background": "light"
          }
        }
      ]
    },
    {
      "cell_type": "markdown",
      "metadata": {
        "id": "tP_OK0FhoU_4"
      },
      "source": [
        "***WINDOWING***\n",
        "\n",
        "The rest of this section defines a WindowGenerator class. This class can:\n",
        "\n",
        "Handle the indexes and offsets as shown in the diagrams above.\n",
        "Split windows of features into a (features, labels) pairs.\n",
        "Plot the content of the resulting windows.\n",
        "Efficiently generate batches of these windows from the training, evaluation, and test data, using tf.data.Datasets.\n",
        "\n",
        "**1.Indexes and offsets**\n",
        "\n",
        "Start by creating the WindowGenerator class. The __init__ method includes all the necessary logic for the input and label indices.\n",
        "\n",
        "It also takes the train, eval, and test dataframes as input. These will be converted to tf.data.Datasets of windows later."
      ]
    },
    {
      "cell_type": "code",
      "metadata": {
        "id": "91h4A5bBoe0p"
      },
      "source": [
        "class WindowGenerator():\n",
        "  def __init__(self, input_width, label_width, shift,\n",
        "               train_df=train_df, val_df=val_df, test_df=test_df,\n",
        "               label_columns=None):\n",
        "    # Store the raw data.\n",
        "    self.train_df = train_df\n",
        "    self.val_df = val_df\n",
        "    self.test_df = test_df\n",
        "\n",
        "    # Work out the label column indices.\n",
        "    self.label_columns = label_columns\n",
        "    if label_columns is not None:\n",
        "      self.label_columns_indices = {name: i for i, name in\n",
        "                                    enumerate(label_columns)}\n",
        "    self.column_indices = {name: i for i, name in\n",
        "                           enumerate(train_df.columns)}\n",
        "\n",
        "    # Work out the window parameters.\n",
        "    self.input_width = input_width\n",
        "    self.label_width = label_width\n",
        "    self.shift = shift\n",
        "\n",
        "    self.total_window_size = input_width + shift\n",
        "\n",
        "    self.input_slice = slice(0, input_width)\n",
        "    self.input_indices = np.arange(self.total_window_size)[self.input_slice]\n",
        "\n",
        "    self.label_start = self.total_window_size - self.label_width\n",
        "    self.labels_slice = slice(self.label_start, None)\n",
        "    self.label_indices = np.arange(self.total_window_size)[self.labels_slice]\n",
        "\n",
        "  def __repr__(self):\n",
        "    return '\\n'.join([\n",
        "        f'Total window size: {self.total_window_size}',\n",
        "        f'Input indices: {self.input_indices}',\n",
        "        f'Label indices: {self.label_indices}',\n",
        "        f'Label column name(s): {self.label_columns}'])"
      ],
      "execution_count": null,
      "outputs": []
    },
    {
      "cell_type": "markdown",
      "metadata": {
        "id": "6cUPejUNokcg"
      },
      "source": [
        "Here is code to create the windowed dataset with only one time-shift:"
      ]
    },
    {
      "cell_type": "code",
      "metadata": {
        "id": "SfpZy9_xolMw",
        "colab": {
          "base_uri": "https://localhost:8080/",
          "height": 119
        },
        "outputId": "973681df-c8c1-45bc-f49b-f4415475e512"
      },
      "source": [
        "w2 = WindowGenerator(input_width=64, label_width=1, shift=1,\n",
        "                     label_columns=['T (degC)'])\n",
        "w2"
      ],
      "execution_count": null,
      "outputs": [
        {
          "output_type": "execute_result",
          "data": {
            "text/plain": [
              "Total window size: 65\n",
              "Input indices: [ 0  1  2  3  4  5  6  7  8  9 10 11 12 13 14 15 16 17 18 19 20 21 22 23\n",
              " 24 25 26 27 28 29 30 31 32 33 34 35 36 37 38 39 40 41 42 43 44 45 46 47\n",
              " 48 49 50 51 52 53 54 55 56 57 58 59 60 61 62 63]\n",
              "Label indices: [64]\n",
              "Label column name(s): ['T (degC)']"
            ]
          },
          "metadata": {
            "tags": []
          },
          "execution_count": 52
        }
      ]
    },
    {
      "cell_type": "markdown",
      "metadata": {
        "id": "qiD0JuFao8jg"
      },
      "source": [
        "**2. Split**\n",
        "\n",
        "Given a list consecutive inputs, the split_window method will convert them to a window of inputs and a window of labels."
      ]
    },
    {
      "cell_type": "code",
      "metadata": {
        "id": "mJrt6GeHpB2U"
      },
      "source": [
        "def split_window(self, features):\n",
        "  inputs = features[:, self.input_slice, :]\n",
        "  labels = features[:, self.labels_slice, :]\n",
        "  if self.label_columns is not None:\n",
        "    labels = tf.stack(\n",
        "        [labels[:, :, self.column_indices[name]] for name in self.label_columns],\n",
        "        axis=-1)\n",
        "\n",
        "  # Slicing doesn't preserve static shape information, so set the shapes\n",
        "  # manually. This way the `tf.data.Datasets` are easier to inspect.\n",
        "  inputs.set_shape([None, self.input_width, None])\n",
        "  labels.set_shape([None, self.label_width, None])\n",
        "\n",
        "  return inputs, labels\n",
        "\n",
        "WindowGenerator.split_window = split_window"
      ],
      "execution_count": null,
      "outputs": []
    },
    {
      "cell_type": "markdown",
      "metadata": {
        "id": "YFKDTgzQpMcf"
      },
      "source": [
        "Typically data in TensorFlow is packed into arrays where the outermost index is across examples (the \"batch\" dimension). The middle indices are the \"time\" or \"space\" (width, height) dimension(s). The innermost indices are the features.\n",
        "\n",
        "The code above took a batch of 3, 7-timestep windows, with 19 features at each time step. It split them into a batch of 6-timestep, 19 feature inputs, and a 1-timestep 1-feature label. The label only has one feature because the WindowGenerator was initialized with label_columns=['T (degC)']. Initially this tutorial will build models that predict single output labels."
      ]
    },
    {
      "cell_type": "markdown",
      "metadata": {
        "id": "ZcANmGO9pPjo"
      },
      "source": [
        "**3. Plot**\n",
        "\n",
        "Here is a plot method that allows a simple visualization of the split window:"
      ]
    },
    {
      "cell_type": "code",
      "metadata": {
        "id": "HohoqQbYpNNv",
        "colab": {
          "base_uri": "https://localhost:8080/",
          "height": 85
        },
        "outputId": "8de2b0e1-db90-4d1a-c029-1c4a5ab0bcad"
      },
      "source": [
        "# Stack three slices, the length of the total window:\n",
        "example_window = tf.stack([np.array(train_df[:w2.total_window_size]),\n",
        "                           np.array(train_df[100:100+w2.total_window_size]),\n",
        "                           np.array(train_df[200:200+w2.total_window_size])])\n",
        "\n",
        "\n",
        "example_inputs, example_labels = w2.split_window(example_window)\n",
        "\n",
        "print('All shapes are: (batch, time, features)')\n",
        "print(f'Window shape: {example_window.shape}')\n",
        "print(f'Inputs shape: {example_inputs.shape}')\n",
        "print(f'labels shape: {example_labels.shape}')\n",
        "\n",
        "\n",
        "w2.example = example_inputs, example_labels\n",
        "\n",
        "def plot(self, model=None, plot_col='T (degC)', max_subplots=3):\n",
        "  inputs, labels = self.example\n",
        "  plt.figure(figsize=(12, 8))\n",
        "  plot_col_index = self.column_indices[plot_col]\n",
        "  max_n = min(max_subplots, len(inputs))\n",
        "  for n in range(max_n):\n",
        "    plt.subplot(3, 1, n+1)\n",
        "    plt.ylabel(f'{plot_col} [normed]')\n",
        "    plt.plot(self.input_indices, inputs[n, :, plot_col_index],\n",
        "             label='Inputs', marker='.', zorder=-10)\n",
        "\n",
        "    if self.label_columns:\n",
        "      label_col_index = self.label_columns_indices.get(plot_col, None)\n",
        "    else:\n",
        "      label_col_index = plot_col_index\n",
        "\n",
        "    if label_col_index is None:\n",
        "      continue\n",
        "\n",
        "    plt.scatter(self.label_indices, labels[n, :, label_col_index],\n",
        "                edgecolors='k', label='Labels', c='#2ca02c', s=64)\n",
        "    if model is not None:\n",
        "      predictions = model(inputs)\n",
        "      plt.scatter(self.label_indices, predictions[n, :, label_col_index],\n",
        "                  marker='X', edgecolors='k', label='Predictions',\n",
        "                  c='#ff7f0e', s=64)\n",
        "\n",
        "    if n == 0:\n",
        "      plt.legend()\n",
        "\n",
        "  plt.xlabel('Time [h]')\n",
        "\n",
        "WindowGenerator.plot = plot"
      ],
      "execution_count": null,
      "outputs": [
        {
          "output_type": "stream",
          "text": [
            "All shapes are: (batch, time, features)\n",
            "Window shape: (3, 65, 19)\n",
            "Inputs shape: (3, 64, 19)\n",
            "labels shape: (3, 1, 1)\n"
          ],
          "name": "stdout"
        }
      ]
    },
    {
      "cell_type": "markdown",
      "metadata": {
        "id": "f0CRbMotph9I"
      },
      "source": [
        "This plot aligns inputs, labels, and (later) predictions based on the time that the item refers to:"
      ]
    },
    {
      "cell_type": "code",
      "metadata": {
        "id": "C6P8YSEMpins",
        "colab": {
          "base_uri": "https://localhost:8080/",
          "height": 497
        },
        "outputId": "69061b0a-33b6-48e8-9f79-a966e34fc2f4"
      },
      "source": [
        "w2.plot()"
      ],
      "execution_count": null,
      "outputs": [
        {
          "output_type": "display_data",
          "data": {
            "image/png": "[encoded data removed]",
            "text/plain": [
              "<Figure size 864x576 with 3 Axes>"
            ]
          },
          "metadata": {
            "tags": [],
            "needs_background": "light"
          }
        }
      ]
    },
    {
      "cell_type": "markdown",
      "metadata": {
        "id": "DbEEMDU3pj5e"
      },
      "source": [
        "You can plot the other columns, but the example window w2 configuration only has labels for the T (degC) column."
      ]
    },
    {
      "cell_type": "code",
      "metadata": {
        "id": "WzpmCdl6pnib",
        "colab": {
          "base_uri": "https://localhost:8080/",
          "height": 497
        },
        "outputId": "5c40b931-8984-4762-dbd4-ae4dcfa5d997"
      },
      "source": [
        "w2.plot(plot_col='p (mbar)')"
      ],
      "execution_count": null,
      "outputs": [
        {
          "output_type": "display_data",
          "data": {
            "image/png": "[encoded data removed]",
            "text/plain": [
              "<Figure size 864x576 with 3 Axes>"
            ]
          },
          "metadata": {
            "tags": [],
            "needs_background": "light"
          }
        }
      ]
    },
    {
      "cell_type": "markdown",
      "metadata": {
        "id": "F1WzEEOyprWO"
      },
      "source": [
        "**4. Create tf.data.Datasets**\n",
        "\n",
        "Finally this make_dataset method will take a time series DataFrame and convert it to a tf.data.Dataset of (input_window, label_window) pairs using the preprocessing.timeseries_dataset_from_array function."
      ]
    },
    {
      "cell_type": "code",
      "metadata": {
        "id": "JLEKtfKspsyK"
      },
      "source": [
        "def make_dataset(self, data):\n",
        "  data = np.array(data, dtype=np.float32)\n",
        "  ds = tf.keras.preprocessing.timeseries_dataset_from_array(\n",
        "      data=data,\n",
        "      targets=None,\n",
        "      sequence_length=self.total_window_size,\n",
        "      sequence_stride=1,\n",
        "      shuffle=True,\n",
        "      batch_size=32,)\n",
        "\n",
        "  ds = ds.map(self.split_window)\n",
        "\n",
        "  return ds\n",
        "\n",
        "WindowGenerator.make_dataset = make_dataset"
      ],
      "execution_count": null,
      "outputs": []
    },
    {
      "cell_type": "markdown",
      "metadata": {
        "id": "42lM_AqWpxM2"
      },
      "source": [
        "The WindowGenerator object holds training, validation and test data. Add properties for accessing them as tf.data.Datasets using the above make_dataset method. Also add a standard example batch for easy access and plotting:"
      ]
    },
    {
      "cell_type": "code",
      "metadata": {
        "id": "HkJL27_BpyPG"
      },
      "source": [
        "@property\n",
        "def train(self):\n",
        "  return self.make_dataset(self.train_df)\n",
        "\n",
        "@property\n",
        "def val(self):\n",
        "  return self.make_dataset(self.val_df)\n",
        "\n",
        "@property\n",
        "def test(self):\n",
        "  return self.make_dataset(self.test_df)\n",
        "\n",
        "@property\n",
        "def example(self):\n",
        "  \"\"\"Get and cache an example batch of `inputs, labels` for plotting.\"\"\"\n",
        "  result = getattr(self, '_example', None)\n",
        "  if result is None:\n",
        "    # No example batch was found, so get one from the `.train` dataset\n",
        "    result = next(iter(self.train))\n",
        "    # And cache it for next time\n",
        "    self._example = result\n",
        "  return result\n",
        "\n",
        "WindowGenerator.train = train\n",
        "WindowGenerator.val = val\n",
        "WindowGenerator.test = test\n",
        "WindowGenerator.example = example"
      ],
      "execution_count": null,
      "outputs": []
    },
    {
      "cell_type": "markdown",
      "metadata": {
        "id": "KMzE_KlJp21W"
      },
      "source": [
        "Now the WindowGenerator object gives you access to the tf.data.Dataset objects, so you can easily iterate over the data.\n",
        "\n",
        "The Dataset.element_spec property tells you the structure, dtypes and shapes of the dataset elements."
      ]
    },
    {
      "cell_type": "code",
      "metadata": {
        "id": "3vIuUjITp3he",
        "colab": {
          "base_uri": "https://localhost:8080/",
          "height": 51
        },
        "outputId": "41872e23-54f9-4207-c084-324cda223063"
      },
      "source": [
        "# Each element is an (inputs, label) pair\n",
        "w2.train.element_spec"
      ],
      "execution_count": null,
      "outputs": [
        {
          "output_type": "execute_result",
          "data": {
            "text/plain": [
              "(TensorSpec(shape=(None, 64, 19), dtype=tf.float32, name=None),\n",
              " TensorSpec(shape=(None, 1, 1), dtype=tf.float32, name=None))"
            ]
          },
          "metadata": {
            "tags": []
          },
          "execution_count": 59
        }
      ]
    },
    {
      "cell_type": "markdown",
      "metadata": {
        "id": "XX39PBoep8x5"
      },
      "source": [
        "Iterating over a Dataset yields concrete batches:"
      ]
    },
    {
      "cell_type": "code",
      "metadata": {
        "id": "-ehMPDkvqCDq",
        "colab": {
          "base_uri": "https://localhost:8080/",
          "height": 51
        },
        "outputId": "566f3cb8-b9f3-43ef-9f78-23d35146c484"
      },
      "source": [
        "for example_inputs, example_labels in w2.train.take(1):\n",
        "  print(f'Inputs shape (batch, time, features): {example_inputs.shape}')\n",
        "  print(f'Labels shape (batch, time, features): {example_labels.shape}')"
      ],
      "execution_count": null,
      "outputs": [
        {
          "output_type": "stream",
          "text": [
            "Inputs shape (batch, time, features): (32, 64, 19)\n",
            "Labels shape (batch, time, features): (32, 1, 1)\n"
          ],
          "name": "stdout"
        }
      ]
    },
    {
      "cell_type": "markdown",
      "metadata": {
        "id": "3cn6dix7sRCd"
      },
      "source": [
        "***SINGLE STEP MODEL***\n",
        "\n",
        "The simplest model you can build on this sort of data is one that predicts a single feature's value, 1 timestep (1h) in the future based only on the current conditions.\n",
        "\n",
        "So start by building models to predict the T (degC) value 1h into the future.\n",
        "\n",
        "Configure a WindowGenerator object to produce these single-step (input, label) pairs:"
      ]
    },
    {
      "cell_type": "code",
      "metadata": {
        "id": "j_SfVL3usNXJ",
        "colab": {
          "base_uri": "https://localhost:8080/",
          "height": 85
        },
        "outputId": "3acf3d6d-9585-487e-b620-27266e728dc2"
      },
      "source": [
        "single_step_window = WindowGenerator(\n",
        "    input_width=1, label_width=1, shift=1,\n",
        "    label_columns=['T (degC)'])\n",
        "single_step_window"
      ],
      "execution_count": null,
      "outputs": [
        {
          "output_type": "execute_result",
          "data": {
            "text/plain": [
              "Total window size: 2\n",
              "Input indices: [0]\n",
              "Label indices: [1]\n",
              "Label column name(s): ['T (degC)']"
            ]
          },
          "metadata": {
            "tags": []
          },
          "execution_count": 61
        }
      ]
    },
    {
      "cell_type": "markdown",
      "metadata": {
        "id": "Oj3mLZ7hsZp2"
      },
      "source": [
        "The window object creates tf.data.Datasets from the training, validation, and test sets, allowing you to easily iterate over batches of data."
      ]
    },
    {
      "cell_type": "code",
      "metadata": {
        "id": "F892_5gVsaXj",
        "colab": {
          "base_uri": "https://localhost:8080/",
          "height": 51
        },
        "outputId": "a108bd05-fb86-4978-d9eb-dfe81525bd6d"
      },
      "source": [
        "for example_inputs, example_labels in single_step_window.train.take(1):\n",
        "  print(f'Inputs shape (batch, time, features): {example_inputs.shape}')\n",
        "  print(f'Labels shape (batch, time, features): {example_labels.shape}')"
      ],
      "execution_count": null,
      "outputs": [
        {
          "output_type": "stream",
          "text": [
            "Inputs shape (batch, time, features): (32, 1, 19)\n",
            "Labels shape (batch, time, features): (32, 1, 1)\n"
          ],
          "name": "stdout"
        }
      ]
    },
    {
      "cell_type": "markdown",
      "metadata": {
        "id": "_ZvZE8D3uJTc"
      },
      "source": [
        "***1. LINEAR MODEL***\n",
        "\n",
        "The simplest trainable model you can apply to this task is to insert linear transformation between the input and output. In this case the output from a time step only depends on that step.\n",
        "\n",
        "A layers.Dense with no activation set is a linear model. The layer only transforms the last axis of the data from (batch, time, inputs) to (batch, time, units), it is applied independently to every item across the batch and time axes."
      ]
    },
    {
      "cell_type": "code",
      "metadata": {
        "id": "ioYlinJiuNaz",
        "colab": {
          "base_uri": "https://localhost:8080/",
          "height": 51
        },
        "outputId": "95b31a30-6380-40e3-dd12-e924dc091c79"
      },
      "source": [
        "linear = tf.keras.models.Sequential([\n",
        "            tf.keras.layers.Flatten(),\n",
        "            tf.keras.layers.Dense(64),\n",
        "            tf.keras.layers.Dense(3)])\n",
        "\n",
        "print('Input shape:', single_step_window.example[0].shape)\n",
        "print('Output shape:', linear(single_step_window.example[0]).shape)\n"
      ],
      "execution_count": null,
      "outputs": [
        {
          "output_type": "stream",
          "text": [
            "Input shape: (32, 1, 19)\n",
            "Output shape: (32, 3)\n"
          ],
          "name": "stdout"
        }
      ]
    },
    {
      "cell_type": "markdown",
      "metadata": {
        "id": "kgMYFyUYubwq"
      },
      "source": [
        "As we train many models, so package the training procedure into a function:"
      ]
    },
    {
      "cell_type": "code",
      "metadata": {
        "id": "NLC43ll7ueYT"
      },
      "source": [
        "MAX_EPOCHS = 20\n",
        "\n",
        "from tensorflow.keras.callbacks import ModelCheckpoint, EarlyStopping\n",
        "\n",
        "def compile_and_fit(model, window, patience=10):\n",
        "  early_stopping = tf.keras.callbacks.EarlyStopping(monitor='val_loss',\n",
        "                                                    patience=patience,\n",
        "                                                    mode='min')\n",
        "  mcp = ModelCheckpoint('/content/drive/My Drive/DNN/Ball_improved/Benchmark_on_weather/dummy.h5', monitor='val_loss', verbose=1,\n",
        "                          save_best_only=True, save_weights_only=False, mode='min', period=1)  \n",
        "  \n",
        "\n",
        "\n",
        "  model.compile(loss=tf.losses.MeanSquaredError(),\n",
        "                optimizer=tf.optimizers.Adam(),\n",
        "                metrics=[tf.metrics.MeanAbsoluteError()])\n",
        "\n",
        "  history = model.fit(window.train, epochs=MAX_EPOCHS,\n",
        "                      validation_data=window.val,\n",
        "                      callbacks=[early_stopping, mcp])\n",
        "  return history"
      ],
      "execution_count": null,
      "outputs": []
    },
    {
      "cell_type": "markdown",
      "metadata": {
        "id": "wzU_VJ5juihk"
      },
      "source": [
        "Train the model and evaluate its performance:"
      ]
    },
    {
      "cell_type": "code",
      "metadata": {
        "id": "T-0G94Ivui4U",
        "colab": {
          "base_uri": "https://localhost:8080/",
          "height": 1000
        },
        "outputId": "dc7efd54-7a8c-4ca1-d342-eb09d20c0a1c"
      },
      "source": [
        "history = compile_and_fit(linear, single_step_window)\n",
        "\n",
        "val_performance = {}\n",
        "performance = {}\n",
        "\n",
        "val_performance['Linear'] = linear.evaluate(single_step_window.val)\n",
        "performance['Linear'] = linear.evaluate(single_step_window.test, verbose=0)"
      ],
      "execution_count": null,
      "outputs": [
        {
          "output_type": "stream",
          "text": [
            "WARNING:tensorflow:`period` argument is deprecated. Please use `save_freq` to specify the frequency in number of batches seen.\n",
            "Epoch 1/20\n",
            "1523/1534 [============================>.] - ETA: 0s - loss: 0.0190 - mean_absolute_error: 0.0836\n",
            "Epoch 00001: val_loss improved from inf to 0.00925, saving model to /content/drive/My Drive/DNN/Ball_improved/Benchmark_on_weather/dummy.h5\n",
            "1534/1534 [==============================] - 7s 5ms/step - loss: 0.0189 - mean_absolute_error: 0.0836 - val_loss: 0.0092 - val_mean_absolute_error: 0.0721\n",
            "Epoch 2/20\n",
            "1524/1534 [============================>.] - ETA: 0s - loss: 0.0097 - mean_absolute_error: 0.0725\n",
            "Epoch 00002: val_loss did not improve from 0.00925\n",
            "1534/1534 [==============================] - 7s 5ms/step - loss: 0.0097 - mean_absolute_error: 0.0725 - val_loss: 0.0093 - val_mean_absolute_error: 0.0717\n",
            "Epoch 3/20\n",
            "1525/1534 [============================>.] - ETA: 0s - loss: 0.0097 - mean_absolute_error: 0.0729\n",
            "Epoch 00003: val_loss did not improve from 0.00925\n",
            "1534/1534 [==============================] - 7s 5ms/step - loss: 0.0098 - mean_absolute_error: 0.0729 - val_loss: 0.0098 - val_mean_absolute_error: 0.0742\n",
            "Epoch 4/20\n",
            "1521/1534 [============================>.] - ETA: 0s - loss: 0.0097 - mean_absolute_error: 0.0725\n",
            "Epoch 00004: val_loss improved from 0.00925 to 0.00900, saving model to /content/drive/My Drive/DNN/Ball_improved/Benchmark_on_weather/dummy.h5\n",
            "1534/1534 [==============================] - 7s 5ms/step - loss: 0.0097 - mean_absolute_error: 0.0725 - val_loss: 0.0090 - val_mean_absolute_error: 0.0699\n",
            "Epoch 5/20\n",
            "1525/1534 [============================>.] - ETA: 0s - loss: 0.0095 - mean_absolute_error: 0.0720\n",
            "Epoch 00005: val_loss improved from 0.00900 to 0.00897, saving model to /content/drive/My Drive/DNN/Ball_improved/Benchmark_on_weather/dummy.h5\n",
            "1534/1534 [==============================] - 7s 5ms/step - loss: 0.0095 - mean_absolute_error: 0.0720 - val_loss: 0.0090 - val_mean_absolute_error: 0.0698\n",
            "Epoch 6/20\n",
            "1529/1534 [============================>.] - ETA: 0s - loss: 0.0095 - mean_absolute_error: 0.0719\n",
            "Epoch 00006: val_loss did not improve from 0.00897\n",
            "1534/1534 [==============================] - 7s 5ms/step - loss: 0.0095 - mean_absolute_error: 0.0719 - val_loss: 0.0092 - val_mean_absolute_error: 0.0718\n",
            "Epoch 7/20\n",
            "1533/1534 [============================>.] - ETA: 0s - loss: 0.0095 - mean_absolute_error: 0.0718\n",
            "Epoch 00007: val_loss did not improve from 0.00897\n",
            "1534/1534 [==============================] - 7s 5ms/step - loss: 0.0095 - mean_absolute_error: 0.0718 - val_loss: 0.0093 - val_mean_absolute_error: 0.0707\n",
            "Epoch 8/20\n",
            "1520/1534 [============================>.] - ETA: 0s - loss: 0.0095 - mean_absolute_error: 0.0715\n",
            "Epoch 00008: val_loss did not improve from 0.00897\n",
            "1534/1534 [==============================] - 7s 5ms/step - loss: 0.0095 - mean_absolute_error: 0.0715 - val_loss: 0.0091 - val_mean_absolute_error: 0.0713\n",
            "Epoch 9/20\n",
            "1524/1534 [============================>.] - ETA: 0s - loss: 0.0094 - mean_absolute_error: 0.0712\n",
            "Epoch 00009: val_loss improved from 0.00897 to 0.00872, saving model to /content/drive/My Drive/DNN/Ball_improved/Benchmark_on_weather/dummy.h5\n",
            "1534/1534 [==============================] - 7s 5ms/step - loss: 0.0094 - mean_absolute_error: 0.0712 - val_loss: 0.0087 - val_mean_absolute_error: 0.0687\n",
            "Epoch 10/20\n",
            "1519/1534 [============================>.] - ETA: 0s - loss: 0.0094 - mean_absolute_error: 0.0712\n",
            "Epoch 00010: val_loss did not improve from 0.00872\n",
            "1534/1534 [==============================] - 7s 5ms/step - loss: 0.0094 - mean_absolute_error: 0.0712 - val_loss: 0.0089 - val_mean_absolute_error: 0.0689\n",
            "Epoch 11/20\n",
            "1518/1534 [============================>.] - ETA: 0s - loss: 0.0094 - mean_absolute_error: 0.0710\n",
            "Epoch 00011: val_loss did not improve from 0.00872\n",
            "1534/1534 [==============================] - 7s 5ms/step - loss: 0.0093 - mean_absolute_error: 0.0710 - val_loss: 0.0091 - val_mean_absolute_error: 0.0708\n",
            "Epoch 12/20\n",
            "1533/1534 [============================>.] - ETA: 0s - loss: 0.0093 - mean_absolute_error: 0.0708\n",
            "Epoch 00012: val_loss did not improve from 0.00872\n",
            "1534/1534 [==============================] - 7s 5ms/step - loss: 0.0093 - mean_absolute_error: 0.0708 - val_loss: 0.0090 - val_mean_absolute_error: 0.0712\n",
            "Epoch 13/20\n",
            "1518/1534 [============================>.] - ETA: 0s - loss: 0.0093 - mean_absolute_error: 0.0708\n",
            "Epoch 00013: val_loss did not improve from 0.00872\n",
            "1534/1534 [==============================] - 7s 5ms/step - loss: 0.0093 - mean_absolute_error: 0.0708 - val_loss: 0.0090 - val_mean_absolute_error: 0.0706\n",
            "Epoch 14/20\n",
            "1533/1534 [============================>.] - ETA: 0s - loss: 0.0093 - mean_absolute_error: 0.0706\n",
            "Epoch 00014: val_loss did not improve from 0.00872\n",
            "1534/1534 [==============================] - 7s 5ms/step - loss: 0.0093 - mean_absolute_error: 0.0706 - val_loss: 0.0088 - val_mean_absolute_error: 0.0695\n",
            "Epoch 15/20\n",
            "1534/1534 [==============================] - ETA: 0s - loss: 0.0093 - mean_absolute_error: 0.0706\n",
            "Epoch 00015: val_loss did not improve from 0.00872\n",
            "1534/1534 [==============================] - 7s 5ms/step - loss: 0.0093 - mean_absolute_error: 0.0706 - val_loss: 0.0092 - val_mean_absolute_error: 0.0718\n",
            "Epoch 16/20\n",
            "1527/1534 [============================>.] - ETA: 0s - loss: 0.0093 - mean_absolute_error: 0.0706\n",
            "Epoch 00016: val_loss did not improve from 0.00872\n",
            "1534/1534 [==============================] - 7s 5ms/step - loss: 0.0093 - mean_absolute_error: 0.0706 - val_loss: 0.0088 - val_mean_absolute_error: 0.0698\n",
            "Epoch 17/20\n",
            "1523/1534 [============================>.] - ETA: 0s - loss: 0.0092 - mean_absolute_error: 0.0705\n",
            "Epoch 00017: val_loss did not improve from 0.00872\n",
            "1534/1534 [==============================] - 7s 5ms/step - loss: 0.0092 - mean_absolute_error: 0.0705 - val_loss: 0.0087 - val_mean_absolute_error: 0.0694\n",
            "Epoch 18/20\n",
            "1526/1534 [============================>.] - ETA: 0s - loss: 0.0092 - mean_absolute_error: 0.0706\n",
            "Epoch 00018: val_loss did not improve from 0.00872\n",
            "1534/1534 [==============================] - 7s 5ms/step - loss: 0.0092 - mean_absolute_error: 0.0706 - val_loss: 0.0088 - val_mean_absolute_error: 0.0695\n",
            "Epoch 19/20\n",
            "1523/1534 [============================>.] - ETA: 0s - loss: 0.0092 - mean_absolute_error: 0.0703\n",
            "Epoch 00019: val_loss did not improve from 0.00872\n",
            "1534/1534 [==============================] - 7s 5ms/step - loss: 0.0092 - mean_absolute_error: 0.0704 - val_loss: 0.0089 - val_mean_absolute_error: 0.0703\n",
            "439/439 [==============================] - 1s 3ms/step - loss: 0.0089 - mean_absolute_error: 0.0703\n"
          ],
          "name": "stdout"
        }
      ]
    },
    {
      "cell_type": "markdown",
      "metadata": {
        "id": "t0hyCm9mvZeL"
      },
      "source": [
        "The linear model can be called on batches of wide windows. Used this way the model makes a set of independent predictions on consecuitive time steps. The time axis acts like another batch axis. There are no interactions between the precictions at each time step."
      ]
    },
    {
      "cell_type": "markdown",
      "metadata": {
        "id": "JapIAJQYwWg5"
      },
      "source": [
        "***2. LINEAR MODEL WITH ADDED NONLINEARITY***\n",
        "\n",
        "The simplest way to add nonlinearity to the previously presented linear model is to supplement the Dense layer with a nonlinear activation function. There are three widely used nonlinear activations (not counting functions which are combinations of linear functions such as RELU), the sigmoid, tanh and softmax functions. The softmax activation is used for classification as it converts a real vector to a vector of categorical probabilities. The application of the sigmoid function yield better results for this problem than the tanh function, however the outputs are restricted between 0 and 1. To compensate for the asymptotes, an additional linear node is required.\n",
        "\n",
        "From this point on, the code is similar to the previously detailed linear model"
      ]
    },
    {
      "cell_type": "code",
      "metadata": {
        "id": "YjasxEfxyqV6"
      },
      "source": [
        "nonlinear = tf.keras.Sequential([\n",
        "            tf.keras.layers.Flatten(),\n",
        "            tf.keras.layers.Dense(64, activation='sigmoid'),\n",
        "            tf.keras.layers.Dense(3)])"
      ],
      "execution_count": null,
      "outputs": []
    },
    {
      "cell_type": "code",
      "metadata": {
        "id": "anQPyrlEy42p",
        "colab": {
          "base_uri": "https://localhost:8080/",
          "height": 1000
        },
        "outputId": "7354cb3d-5ee5-4082-c8cb-a48bbbfb447c"
      },
      "source": [
        "history = compile_and_fit(nonlinear, single_step_window)\n",
        "\n",
        "val_performance['Nonlinear'] = nonlinear.evaluate(single_step_window.val)\n",
        "performance['Nonlinear'] = nonlinear.evaluate(single_step_window.test, verbose=0)\n"
      ],
      "execution_count": null,
      "outputs": [
        {
          "output_type": "stream",
          "text": [
            "WARNING:tensorflow:`period` argument is deprecated. Please use `save_freq` to specify the frequency in number of batches seen.\n",
            "Epoch 1/20\n",
            "1520/1534 [============================>.] - ETA: 0s - loss: 0.0409 - mean_absolute_error: 0.1138\n",
            "Epoch 00001: val_loss improved from inf to 0.00985, saving model to /content/drive/My Drive/DNN/Ball_improved/Benchmark_on_weather/dummy.h5\n",
            "1534/1534 [==============================] - 7s 5ms/step - loss: 0.0406 - mean_absolute_error: 0.1135 - val_loss: 0.0099 - val_mean_absolute_error: 0.0739\n",
            "Epoch 2/20\n",
            "1527/1534 [============================>.] - ETA: 0s - loss: 0.0100 - mean_absolute_error: 0.0734\n",
            "Epoch 00002: val_loss improved from 0.00985 to 0.00905, saving model to /content/drive/My Drive/DNN/Ball_improved/Benchmark_on_weather/dummy.h5\n",
            "1534/1534 [==============================] - 7s 5ms/step - loss: 0.0100 - mean_absolute_error: 0.0734 - val_loss: 0.0091 - val_mean_absolute_error: 0.0709\n",
            "Epoch 3/20\n",
            "1527/1534 [============================>.] - ETA: 0s - loss: 0.0093 - mean_absolute_error: 0.0707\n",
            "Epoch 00003: val_loss did not improve from 0.00905\n",
            "1534/1534 [==============================] - 7s 4ms/step - loss: 0.0093 - mean_absolute_error: 0.0707 - val_loss: 0.0094 - val_mean_absolute_error: 0.0719\n",
            "Epoch 4/20\n",
            "1519/1534 [============================>.] - ETA: 0s - loss: 0.0088 - mean_absolute_error: 0.0685\n",
            "Epoch 00004: val_loss improved from 0.00905 to 0.00829, saving model to /content/drive/My Drive/DNN/Ball_improved/Benchmark_on_weather/dummy.h5\n",
            "1534/1534 [==============================] - 7s 5ms/step - loss: 0.0088 - mean_absolute_error: 0.0685 - val_loss: 0.0083 - val_mean_absolute_error: 0.0671\n",
            "Epoch 5/20\n",
            "1519/1534 [============================>.] - ETA: 0s - loss: 0.0085 - mean_absolute_error: 0.0666\n",
            "Epoch 00005: val_loss improved from 0.00829 to 0.00790, saving model to /content/drive/My Drive/DNN/Ball_improved/Benchmark_on_weather/dummy.h5\n",
            "1534/1534 [==============================] - 7s 5ms/step - loss: 0.0085 - mean_absolute_error: 0.0666 - val_loss: 0.0079 - val_mean_absolute_error: 0.0649\n",
            "Epoch 6/20\n",
            "1523/1534 [============================>.] - ETA: 0s - loss: 0.0082 - mean_absolute_error: 0.0654\n",
            "Epoch 00006: val_loss improved from 0.00790 to 0.00759, saving model to /content/drive/My Drive/DNN/Ball_improved/Benchmark_on_weather/dummy.h5\n",
            "1534/1534 [==============================] - 7s 5ms/step - loss: 0.0082 - mean_absolute_error: 0.0654 - val_loss: 0.0076 - val_mean_absolute_error: 0.0637\n",
            "Epoch 7/20\n",
            "1524/1534 [============================>.] - ETA: 0s - loss: 0.0079 - mean_absolute_error: 0.0641\n",
            "Epoch 00007: val_loss improved from 0.00759 to 0.00726, saving model to /content/drive/My Drive/DNN/Ball_improved/Benchmark_on_weather/dummy.h5\n",
            "1534/1534 [==============================] - 7s 5ms/step - loss: 0.0079 - mean_absolute_error: 0.0641 - val_loss: 0.0073 - val_mean_absolute_error: 0.0612\n",
            "Epoch 8/20\n",
            "1525/1534 [============================>.] - ETA: 0s - loss: 0.0077 - mean_absolute_error: 0.0627\n",
            "Epoch 00008: val_loss improved from 0.00726 to 0.00726, saving model to /content/drive/My Drive/DNN/Ball_improved/Benchmark_on_weather/dummy.h5\n",
            "1534/1534 [==============================] - 7s 5ms/step - loss: 0.0077 - mean_absolute_error: 0.0627 - val_loss: 0.0073 - val_mean_absolute_error: 0.0605\n",
            "Epoch 9/20\n",
            "1519/1534 [============================>.] - ETA: 0s - loss: 0.0076 - mean_absolute_error: 0.0622\n",
            "Epoch 00009: val_loss improved from 0.00726 to 0.00711, saving model to /content/drive/My Drive/DNN/Ball_improved/Benchmark_on_weather/dummy.h5\n",
            "1534/1534 [==============================] - 7s 5ms/step - loss: 0.0076 - mean_absolute_error: 0.0622 - val_loss: 0.0071 - val_mean_absolute_error: 0.0610\n",
            "Epoch 10/20\n",
            "1531/1534 [============================>.] - ETA: 0s - loss: 0.0075 - mean_absolute_error: 0.0618\n",
            "Epoch 00010: val_loss did not improve from 0.00711\n",
            "1534/1534 [==============================] - 7s 5ms/step - loss: 0.0075 - mean_absolute_error: 0.0618 - val_loss: 0.0075 - val_mean_absolute_error: 0.0636\n",
            "Epoch 11/20\n",
            "1520/1534 [============================>.] - ETA: 0s - loss: 0.0074 - mean_absolute_error: 0.0613\n",
            "Epoch 00011: val_loss did not improve from 0.00711\n",
            "1534/1534 [==============================] - 7s 5ms/step - loss: 0.0074 - mean_absolute_error: 0.0614 - val_loss: 0.0074 - val_mean_absolute_error: 0.0619\n",
            "Epoch 12/20\n",
            "1526/1534 [============================>.] - ETA: 0s - loss: 0.0073 - mean_absolute_error: 0.0614\n",
            "Epoch 00012: val_loss improved from 0.00711 to 0.00685, saving model to /content/drive/My Drive/DNN/Ball_improved/Benchmark_on_weather/dummy.h5\n",
            "1534/1534 [==============================] - 7s 5ms/step - loss: 0.0073 - mean_absolute_error: 0.0614 - val_loss: 0.0069 - val_mean_absolute_error: 0.0591\n",
            "Epoch 13/20\n",
            "1534/1534 [==============================] - ETA: 0s - loss: 0.0073 - mean_absolute_error: 0.0612\n",
            "Epoch 00013: val_loss did not improve from 0.00685\n",
            "1534/1534 [==============================] - 7s 5ms/step - loss: 0.0073 - mean_absolute_error: 0.0612 - val_loss: 0.0074 - val_mean_absolute_error: 0.0631\n",
            "Epoch 14/20\n",
            "1520/1534 [============================>.] - ETA: 0s - loss: 0.0073 - mean_absolute_error: 0.0610\n",
            "Epoch 00014: val_loss improved from 0.00685 to 0.00678, saving model to /content/drive/My Drive/DNN/Ball_improved/Benchmark_on_weather/dummy.h5\n",
            "1534/1534 [==============================] - 7s 5ms/step - loss: 0.0073 - mean_absolute_error: 0.0610 - val_loss: 0.0068 - val_mean_absolute_error: 0.0590\n",
            "Epoch 15/20\n",
            "1528/1534 [============================>.] - ETA: 0s - loss: 0.0072 - mean_absolute_error: 0.0609\n",
            "Epoch 00015: val_loss did not improve from 0.00678\n",
            "1534/1534 [==============================] - 7s 5ms/step - loss: 0.0072 - mean_absolute_error: 0.0609 - val_loss: 0.0071 - val_mean_absolute_error: 0.0614\n",
            "Epoch 16/20\n",
            "1523/1534 [============================>.] - ETA: 0s - loss: 0.0072 - mean_absolute_error: 0.0606\n",
            "Epoch 00016: val_loss did not improve from 0.00678\n",
            "1534/1534 [==============================] - 7s 5ms/step - loss: 0.0072 - mean_absolute_error: 0.0606 - val_loss: 0.0080 - val_mean_absolute_error: 0.0671\n",
            "Epoch 17/20\n",
            "1526/1534 [============================>.] - ETA: 0s - loss: 0.0072 - mean_absolute_error: 0.0604\n",
            "Epoch 00017: val_loss did not improve from 0.00678\n",
            "1534/1534 [==============================] - 7s 4ms/step - loss: 0.0072 - mean_absolute_error: 0.0604 - val_loss: 0.0084 - val_mean_absolute_error: 0.0691\n",
            "Epoch 18/20\n",
            "1525/1534 [============================>.] - ETA: 0s - loss: 0.0072 - mean_absolute_error: 0.0606\n",
            "Epoch 00018: val_loss improved from 0.00678 to 0.00673, saving model to /content/drive/My Drive/DNN/Ball_improved/Benchmark_on_weather/dummy.h5\n",
            "1534/1534 [==============================] - 7s 5ms/step - loss: 0.0072 - mean_absolute_error: 0.0606 - val_loss: 0.0067 - val_mean_absolute_error: 0.0580\n",
            "Epoch 19/20\n",
            "1532/1534 [============================>.] - ETA: 0s - loss: 0.0071 - mean_absolute_error: 0.0601\n",
            "Epoch 00019: val_loss did not improve from 0.00673\n",
            "1534/1534 [==============================] - 7s 5ms/step - loss: 0.0071 - mean_absolute_error: 0.0601 - val_loss: 0.0070 - val_mean_absolute_error: 0.0607\n",
            "Epoch 20/20\n",
            "1520/1534 [============================>.] - ETA: 0s - loss: 0.0072 - mean_absolute_error: 0.0605\n",
            "Epoch 00020: val_loss did not improve from 0.00673\n",
            "1534/1534 [==============================] - 7s 5ms/step - loss: 0.0072 - mean_absolute_error: 0.0605 - val_loss: 0.0068 - val_mean_absolute_error: 0.0594\n",
            "439/439 [==============================] - 1s 3ms/step - loss: 0.0068 - mean_absolute_error: 0.0594\n"
          ],
          "name": "stdout"
        }
      ]
    },
    {
      "cell_type": "markdown",
      "metadata": {
        "id": "5-27gsOg41le"
      },
      "source": [
        "***3. DEEP NEURAL NET WITH MIXED LINEAR AND NONLINEAR PROCESSING***\n",
        "\n",
        "Deep neural nets allow complex inormation transformations through several steps, which in this case is represented by stacks of subsequent linear (Dense) and nonliear layers.\n",
        "\n",
        "From this point on, the code is similar to the previously detailed linear model\n",
        "\n",
        "Notice that the number of units is 64 instead of 1 as for the previous examples. This results in dense, fully connected layers with orders of magnitude more trainable parameters."
      ]
    },
    {
      "cell_type": "code",
      "metadata": {
        "id": "RyZWWaZ555_9",
        "colab": {
          "base_uri": "https://localhost:8080/",
          "height": 1000
        },
        "outputId": "667533a9-07ad-4959-ab3d-9c4cc5be1e8f"
      },
      "source": [
        "dnn = tf.keras.models.Sequential([\n",
        "            tf.keras.layers.Flatten(),\n",
        "            tf.keras.layers.Dense(64),\n",
        "            tf.keras.layers.Dense(128, activation='tanh'),\n",
        "            tf.keras.layers.Dropout(0.15),\n",
        "            tf.keras.layers.Dense(256, activation='tanh'),\n",
        "            tf.keras.layers.Dropout(0.15),\n",
        "            tf.keras.layers.Dense(512, activation='tanh'),\n",
        "            tf.keras.layers.Dropout(0.15),\n",
        "            tf.keras.layers.Dense(1024, activation='tanh'),\n",
        "            tf.keras.layers.Dropout(0.15),\n",
        "            tf.keras.layers.Dense(1024, activation='tanh'),\n",
        "            tf.keras.layers.Dropout(0.15),\n",
        "            tf.keras.layers.Dense(512, activation='tanh'),\n",
        "            tf.keras.layers.Dropout(0.15),\n",
        "            tf.keras.layers.Dense(256, activation='tanh'),\n",
        "            tf.keras.layers.Dropout(0.15),\n",
        "            tf.keras.layers.Dense(128, activation='tanh'),\n",
        "            tf.keras.layers.Dropout(0.15),\n",
        "            tf.keras.layers.Dense(64, activation='tanh'),\n",
        "            tf.keras.layers.Dropout(0.15),\n",
        "            tf.keras.layers.Dense(3)\n",
        "            ])\n",
        "\n",
        "\n",
        "\n",
        "history = compile_and_fit(dnn, single_step_window)\n",
        "dnn.summary()\n",
        "val_performance['DNN'] = dnn.evaluate(single_step_window.val)\n",
        "performance['DNN'] = dnn.evaluate(single_step_window.test, verbose=0)\n"
      ],
      "execution_count": null,
      "outputs": [
        {
          "output_type": "stream",
          "text": [
            "WARNING:tensorflow:`period` argument is deprecated. Please use `save_freq` to specify the frequency in number of batches seen.\n",
            "Epoch 1/20\n",
            "1524/1534 [============================>.] - ETA: 0s - loss: 0.1109 - mean_absolute_error: 0.2450\n",
            "Epoch 00001: val_loss improved from inf to 0.04330, saving model to /content/drive/My Drive/DNN/Ball_improved/Benchmark_on_weather/dummy.h5\n",
            "1534/1534 [==============================] - 10s 6ms/step - loss: 0.1106 - mean_absolute_error: 0.2446 - val_loss: 0.0433 - val_mean_absolute_error: 0.1681\n",
            "Epoch 2/20\n",
            "1526/1534 [============================>.] - ETA: 0s - loss: 0.0468 - mean_absolute_error: 0.1646\n",
            "Epoch 00002: val_loss improved from 0.04330 to 0.02314, saving model to /content/drive/My Drive/DNN/Ball_improved/Benchmark_on_weather/dummy.h5\n",
            "1534/1534 [==============================] - 10s 6ms/step - loss: 0.0468 - mean_absolute_error: 0.1646 - val_loss: 0.0231 - val_mean_absolute_error: 0.1157\n",
            "Epoch 3/20\n",
            "1525/1534 [============================>.] - ETA: 0s - loss: 0.0469 - mean_absolute_error: 0.1643\n",
            "Epoch 00003: val_loss did not improve from 0.02314\n",
            "1534/1534 [==============================] - 10s 6ms/step - loss: 0.0470 - mean_absolute_error: 0.1645 - val_loss: 0.0446 - val_mean_absolute_error: 0.1714\n",
            "Epoch 4/20\n",
            "1533/1534 [============================>.] - ETA: 0s - loss: 0.0438 - mean_absolute_error: 0.1585\n",
            "Epoch 00004: val_loss improved from 0.02314 to 0.02292, saving model to /content/drive/My Drive/DNN/Ball_improved/Benchmark_on_weather/dummy.h5\n",
            "1534/1534 [==============================] - 10s 6ms/step - loss: 0.0438 - mean_absolute_error: 0.1585 - val_loss: 0.0229 - val_mean_absolute_error: 0.1129\n",
            "Epoch 5/20\n",
            "1533/1534 [============================>.] - ETA: 0s - loss: 0.0419 - mean_absolute_error: 0.1560\n",
            "Epoch 00005: val_loss did not improve from 0.02292\n",
            "1534/1534 [==============================] - 10s 6ms/step - loss: 0.0419 - mean_absolute_error: 0.1560 - val_loss: 0.0240 - val_mean_absolute_error: 0.1086\n",
            "Epoch 6/20\n",
            "1526/1534 [============================>.] - ETA: 0s - loss: 0.0430 - mean_absolute_error: 0.1581\n",
            "Epoch 00006: val_loss did not improve from 0.02292\n",
            "1534/1534 [==============================] - 10s 6ms/step - loss: 0.0431 - mean_absolute_error: 0.1582 - val_loss: 0.0230 - val_mean_absolute_error: 0.1132\n",
            "Epoch 7/20\n",
            "1530/1534 [============================>.] - ETA: 0s - loss: 0.0396 - mean_absolute_error: 0.1512\n",
            "Epoch 00007: val_loss did not improve from 0.02292\n",
            "1534/1534 [==============================] - 10s 6ms/step - loss: 0.0396 - mean_absolute_error: 0.1513 - val_loss: 0.0318 - val_mean_absolute_error: 0.1192\n",
            "Epoch 8/20\n",
            "1534/1534 [==============================] - ETA: 0s - loss: 0.0417 - mean_absolute_error: 0.1556\n",
            "Epoch 00008: val_loss improved from 0.02292 to 0.02178, saving model to /content/drive/My Drive/DNN/Ball_improved/Benchmark_on_weather/dummy.h5\n",
            "1534/1534 [==============================] - 10s 6ms/step - loss: 0.0417 - mean_absolute_error: 0.1556 - val_loss: 0.0218 - val_mean_absolute_error: 0.1083\n",
            "Epoch 9/20\n",
            "1532/1534 [============================>.] - ETA: 0s - loss: 0.0391 - mean_absolute_error: 0.1509\n",
            "Epoch 00009: val_loss did not improve from 0.02178\n",
            "1534/1534 [==============================] - 10s 6ms/step - loss: 0.0391 - mean_absolute_error: 0.1509 - val_loss: 0.0228 - val_mean_absolute_error: 0.1074\n",
            "Epoch 10/20\n",
            "1534/1534 [==============================] - ETA: 0s - loss: 0.0382 - mean_absolute_error: 0.1493\n",
            "Epoch 00010: val_loss improved from 0.02178 to 0.01997, saving model to /content/drive/My Drive/DNN/Ball_improved/Benchmark_on_weather/dummy.h5\n",
            "1534/1534 [==============================] - 10s 6ms/step - loss: 0.0382 - mean_absolute_error: 0.1493 - val_loss: 0.0200 - val_mean_absolute_error: 0.1051\n",
            "Epoch 11/20\n",
            "1524/1534 [============================>.] - ETA: 0s - loss: 0.0377 - mean_absolute_error: 0.1476\n",
            "Epoch 00011: val_loss improved from 0.01997 to 0.01684, saving model to /content/drive/My Drive/DNN/Ball_improved/Benchmark_on_weather/dummy.h5\n",
            "1534/1534 [==============================] - 10s 6ms/step - loss: 0.0377 - mean_absolute_error: 0.1476 - val_loss: 0.0168 - val_mean_absolute_error: 0.0929\n",
            "Epoch 12/20\n",
            "1528/1534 [============================>.] - ETA: 0s - loss: 0.0378 - mean_absolute_error: 0.1478\n",
            "Epoch 00012: val_loss did not improve from 0.01684\n",
            "1534/1534 [==============================] - 10s 6ms/step - loss: 0.0378 - mean_absolute_error: 0.1479 - val_loss: 0.0176 - val_mean_absolute_error: 0.0951\n",
            "Epoch 13/20\n",
            "1526/1534 [============================>.] - ETA: 0s - loss: 0.0376 - mean_absolute_error: 0.1477\n",
            "Epoch 00013: val_loss did not improve from 0.01684\n",
            "1534/1534 [==============================] - 10s 6ms/step - loss: 0.0376 - mean_absolute_error: 0.1478 - val_loss: 0.0180 - val_mean_absolute_error: 0.1007\n",
            "Epoch 14/20\n",
            "1532/1534 [============================>.] - ETA: 0s - loss: 0.0357 - mean_absolute_error: 0.1446\n",
            "Epoch 00014: val_loss did not improve from 0.01684\n",
            "1534/1534 [==============================] - 10s 6ms/step - loss: 0.0357 - mean_absolute_error: 0.1446 - val_loss: 0.0171 - val_mean_absolute_error: 0.0947\n",
            "Epoch 15/20\n",
            "1525/1534 [============================>.] - ETA: 0s - loss: 0.0364 - mean_absolute_error: 0.1447\n",
            "Epoch 00015: val_loss did not improve from 0.01684\n",
            "1534/1534 [==============================] - 10s 6ms/step - loss: 0.0365 - mean_absolute_error: 0.1448 - val_loss: 0.0291 - val_mean_absolute_error: 0.1131\n",
            "Epoch 16/20\n",
            "1533/1534 [============================>.] - ETA: 0s - loss: 0.0369 - mean_absolute_error: 0.1462\n",
            "Epoch 00016: val_loss improved from 0.01684 to 0.01630, saving model to /content/drive/My Drive/DNN/Ball_improved/Benchmark_on_weather/dummy.h5\n",
            "1534/1534 [==============================] - 10s 6ms/step - loss: 0.0369 - mean_absolute_error: 0.1462 - val_loss: 0.0163 - val_mean_absolute_error: 0.0919\n",
            "Epoch 17/20\n",
            "1524/1534 [============================>.] - ETA: 0s - loss: 0.0358 - mean_absolute_error: 0.1439\n",
            "Epoch 00017: val_loss did not improve from 0.01630\n",
            "1534/1534 [==============================] - 10s 6ms/step - loss: 0.0358 - mean_absolute_error: 0.1439 - val_loss: 0.0191 - val_mean_absolute_error: 0.0950\n",
            "Epoch 18/20\n",
            "1534/1534 [==============================] - ETA: 0s - loss: 0.0359 - mean_absolute_error: 0.1449\n",
            "Epoch 00018: val_loss did not improve from 0.01630\n",
            "1534/1534 [==============================] - 10s 6ms/step - loss: 0.0359 - mean_absolute_error: 0.1449 - val_loss: 0.0187 - val_mean_absolute_error: 0.0975\n",
            "Epoch 19/20\n",
            "1525/1534 [============================>.] - ETA: 0s - loss: 0.0361 - mean_absolute_error: 0.1448\n",
            "Epoch 00019: val_loss did not improve from 0.01630\n",
            "1534/1534 [==============================] - 10s 6ms/step - loss: 0.0361 - mean_absolute_error: 0.1448 - val_loss: 0.0216 - val_mean_absolute_error: 0.1114\n",
            "Epoch 20/20\n",
            "1527/1534 [============================>.] - ETA: 0s - loss: 0.0365 - mean_absolute_error: 0.1458\n",
            "Epoch 00020: val_loss did not improve from 0.01630\n",
            "1534/1534 [==============================] - 10s 6ms/step - loss: 0.0365 - mean_absolute_error: 0.1458 - val_loss: 0.0166 - val_mean_absolute_error: 0.0923\n",
            "Model: \"sequential_5\"\n",
            "_________________________________________________________________\n",
            "Layer (type)                 Output Shape              Param #   \n",
            "=================================================================\n",
            "flatten_5 (Flatten)          (None, 19)                0         \n",
            "_________________________________________________________________\n",
            "dense_19 (Dense)             (None, 64)                1280      \n",
            "_________________________________________________________________\n",
            "dense_20 (Dense)             (None, 128)               8320      \n",
            "_________________________________________________________________\n",
            "dropout_9 (Dropout)          (None, 128)               0         \n",
            "_________________________________________________________________\n",
            "dense_21 (Dense)             (None, 256)               33024     \n",
            "_________________________________________________________________\n",
            "dropout_10 (Dropout)         (None, 256)               0         \n",
            "_________________________________________________________________\n",
            "dense_22 (Dense)             (None, 512)               131584    \n",
            "_________________________________________________________________\n",
            "dropout_11 (Dropout)         (None, 512)               0         \n",
            "_________________________________________________________________\n",
            "dense_23 (Dense)             (None, 1024)              525312    \n",
            "_________________________________________________________________\n",
            "dropout_12 (Dropout)         (None, 1024)              0         \n",
            "_________________________________________________________________\n",
            "dense_24 (Dense)             (None, 1024)              1049600   \n",
            "_________________________________________________________________\n",
            "dropout_13 (Dropout)         (None, 1024)              0         \n",
            "_________________________________________________________________\n",
            "dense_25 (Dense)             (None, 512)               524800    \n",
            "_________________________________________________________________\n",
            "dropout_14 (Dropout)         (None, 512)               0         \n",
            "_________________________________________________________________\n",
            "dense_26 (Dense)             (None, 256)               131328    \n",
            "_________________________________________________________________\n",
            "dropout_15 (Dropout)         (None, 256)               0         \n",
            "_________________________________________________________________\n",
            "dense_27 (Dense)             (None, 128)               32896     \n",
            "_________________________________________________________________\n",
            "dropout_16 (Dropout)         (None, 128)               0         \n",
            "_________________________________________________________________\n",
            "dense_28 (Dense)             (None, 64)                8256      \n",
            "_________________________________________________________________\n",
            "dropout_17 (Dropout)         (None, 64)                0         \n",
            "_________________________________________________________________\n",
            "dense_29 (Dense)             (None, 3)                 195       \n",
            "=================================================================\n",
            "Total params: 2,446,595\n",
            "Trainable params: 2,446,595\n",
            "Non-trainable params: 0\n",
            "_________________________________________________________________\n",
            "439/439 [==============================] - 2s 4ms/step - loss: 0.0166 - mean_absolute_error: 0.0923\n"
          ],
          "name": "stdout"
        }
      ]
    },
    {
      "cell_type": "markdown",
      "metadata": {
        "id": "-WgmDu228sFy"
      },
      "source": [
        "***4. WAVENET***\n",
        "\n",
        "In a 2016 paper,13 Aaron van den Oord and other DeepMind researchers introduced an architecture called WaveNet. They stacked 1D convolutional layers, doubling the dilation rate (how spread apart each neuron’s inputs are) at every layer: the first convolutional layer gets a glimpse of just two time steps at a time, while the next one sees four time steps (its receptive field is four time steps long), the next one sees eight time steps, and so on (see Figure 15-11). This way, the lower layers learn short-term patterns, while the higher layers learn long-term patterns. Thanks to the doubling dilation rate, the network can process extremely large sequences very efficiently. -- Aurélien Géron"
      ]
    },
    {
      "cell_type": "code",
      "metadata": {
        "id": "eQMSjNNbEs81"
      },
      "source": [
        "from keras import initializers\n",
        "from keras.layers import Dense, Dropout, Activation, Flatten, Input, TimeDistributed, Reshape, Permute, Conv1D\n",
        "from keras.layers.normalization import BatchNormalization\n",
        "from keras.models import Model, load_model\n",
        "from keras.optimizers import Nadam\n",
        "\n",
        "num_segments=1\n",
        "num_syn_types=2\n",
        "filter_sizes_per_layer=[20] * 3\n",
        "num_filters_per_layer=[8] * 3\n",
        "activation_function_per_layer=['relu'] * 3\n",
        "l2_regularization_per_layer=[1e-8] * 3\n",
        "strides_per_layer=[1] * 3\n",
        "dilation_rates_per_layer=[1] * 3\n",
        "initializer_per_layer=[0.002] * 3\n",
        "from keras.regularizers import l1,l2,l1_l2\n",
        "\n",
        "def create_temporaly_convolutional_model(TIME_STEPS, num_segments, num_syn_types, filter_sizes_per_layer,\n",
        "                                                                                            num_filters_per_layer,\n",
        "                                                                                            activation_function_per_layer,\n",
        "                                                                                            l2_regularization_per_layer,\n",
        "                                                                                            strides_per_layer,\n",
        "                                                                                            dilation_rates_per_layer,\n",
        "                                                                                            initializer_per_layer):\n",
        "    \n",
        "    # define input and flatten it\n",
        "    binary_input_mat = Input(shape=(1, 19), name='input_layer')\n",
        "\n",
        "    for k in range(len(filter_sizes_per_layer)):\n",
        "        num_filters   = num_filters_per_layer[k]\n",
        "        filter_size   = filter_sizes_per_layer[k]\n",
        "        activation    = activation_function_per_layer[k]\n",
        "        l2_reg        = l2_regularization_per_layer[k]\n",
        "        stride        = strides_per_layer[k]\n",
        "        dilation_rate = dilation_rates_per_layer[k]\n",
        "        initializer   = initializer_per_layer[k]\n",
        "        \n",
        "            \n",
        "        if not isinstance(initializer, str):\n",
        "            initializer = initializers.TruncatedNormal(stddev=initializer)\n",
        "        \n",
        "        if k == 0:\n",
        "            x = Conv1D(num_filters, filter_size, activation=activation, kernel_initializer=initializer, kernel_regularizer=l2(l2_reg),\n",
        "                       strides=stride, dilation_rate=dilation_rate, padding='causal', name='layer_%d' %(k + 1))(binary_input_mat)\n",
        "        else:\n",
        "            x = Conv1D(num_filters, filter_size, activation=activation, kernel_initializer=initializer, kernel_regularizer=l2(l2_reg),\n",
        "                       strides=stride, dilation_rate=dilation_rate, padding='causal', name='layer_%d' %(k + 1))(x)\n",
        "        x = BatchNormalization(name='layer_%d_BN' %(k + 1))(x)\n",
        "        \n",
        "\n",
        "    output_soma_init  = initializers.TruncatedNormal(stddev=0.03)\n",
        "    intermediate = Conv1D(1, 1, activation='linear' , kernel_initializer=output_soma_init, kernel_regularizer=l2(1e-8), padding='causal', name='somatic')(x)\n",
        "    flat = Flatten()(intermediate)\n",
        "    output_soma_voltage_pred = Dense(1)(flat)\n",
        "\n",
        "    temporaly_convolutional_network_model = Model(inputs=binary_input_mat, outputs=output_soma_voltage_pred)\n",
        "\n",
        "    optimizer_to_use = Nadam(lr=0.0001)\n",
        "    temporaly_convolutional_network_model.compile(optimizer=optimizer_to_use,\n",
        "                                                  loss='mse')\n",
        "    temporaly_convolutional_network_model.summary()\n",
        "    \n",
        "    return temporaly_convolutional_network_model"
      ],
      "execution_count": null,
      "outputs": []
    },
    {
      "cell_type": "code",
      "metadata": {
        "id": "cEzWcTPA9dEc",
        "colab": {
          "base_uri": "https://localhost:8080/",
          "height": 1000
        },
        "outputId": "a775bc63-6030-478b-e254-c1b8e330a663"
      },
      "source": [
        "\n",
        "wavenet = create_temporaly_convolutional_model(64, 1, num_syn_types,\n",
        "                                                         filter_sizes_per_layer, num_filters_per_layer,\n",
        "                                                         activation_function_per_layer, l2_regularization_per_layer,\n",
        "                                                         strides_per_layer, dilation_rates_per_layer, initializer_per_layer)\n",
        "\n",
        "    \n",
        "    \n",
        "history = compile_and_fit(wavenet, single_step_window)\n",
        "val_performance['Wavenet'] = wavenet.evaluate(single_step_window.val)\n",
        "performance['Wavenet'] = wavenet.evaluate(single_step_window.test, verbose=0)\n",
        "\n",
        "\n"
      ],
      "execution_count": null,
      "outputs": [
        {
          "output_type": "stream",
          "text": [
            "Model: \"functional_1\"\n",
            "_________________________________________________________________\n",
            "Layer (type)                 Output Shape              Param #   \n",
            "=================================================================\n",
            "input_layer (InputLayer)     [(None, 1, 19)]           0         \n",
            "_________________________________________________________________\n",
            "layer_1 (Conv1D)             (None, 1, 8)              3048      \n",
            "_________________________________________________________________\n",
            "layer_1_BN (BatchNormalizati (None, 1, 8)              32        \n",
            "_________________________________________________________________\n",
            "layer_2 (Conv1D)             (None, 1, 8)              1288      \n",
            "_________________________________________________________________\n",
            "layer_2_BN (BatchNormalizati (None, 1, 8)              32        \n",
            "_________________________________________________________________\n",
            "layer_3 (Conv1D)             (None, 1, 8)              1288      \n",
            "_________________________________________________________________\n",
            "layer_3_BN (BatchNormalizati (None, 1, 8)              32        \n",
            "_________________________________________________________________\n",
            "somatic (Conv1D)             (None, 1, 1)              9         \n",
            "_________________________________________________________________\n",
            "flatten_6 (Flatten)          (None, 1)                 0         \n",
            "_________________________________________________________________\n",
            "dense_30 (Dense)             (None, 1)                 2         \n",
            "=================================================================\n",
            "Total params: 5,731\n",
            "Trainable params: 5,683\n",
            "Non-trainable params: 48\n",
            "_________________________________________________________________\n",
            "WARNING:tensorflow:`period` argument is deprecated. Please use `save_freq` to specify the frequency in number of batches seen.\n",
            "Epoch 1/20\n",
            "1534/1534 [==============================] - ETA: 0s - loss: 0.0785 - mean_absolute_error: 0.2083\n",
            "Epoch 00001: val_loss improved from inf to 0.01061, saving model to /content/drive/My Drive/DNN/Ball_improved/Benchmark_on_weather/dummy.h5\n",
            "1534/1534 [==============================] - 12s 8ms/step - loss: 0.0785 - mean_absolute_error: 0.2083 - val_loss: 0.0106 - val_mean_absolute_error: 0.0765\n",
            "Epoch 2/20\n",
            "1526/1534 [============================>.] - ETA: 0s - loss: 0.0598 - mean_absolute_error: 0.1917\n",
            "Epoch 00002: val_loss improved from 0.01061 to 0.00785, saving model to /content/drive/My Drive/DNN/Ball_improved/Benchmark_on_weather/dummy.h5\n",
            "1534/1534 [==============================] - 12s 8ms/step - loss: 0.0598 - mean_absolute_error: 0.1917 - val_loss: 0.0079 - val_mean_absolute_error: 0.0625\n",
            "Epoch 3/20\n",
            "1526/1534 [============================>.] - ETA: 0s - loss: 0.0598 - mean_absolute_error: 0.1905\n",
            "Epoch 00003: val_loss did not improve from 0.00785\n",
            "1534/1534 [==============================] - 12s 8ms/step - loss: 0.0600 - mean_absolute_error: 0.1907 - val_loss: 0.0102 - val_mean_absolute_error: 0.0760\n",
            "Epoch 4/20\n",
            "1528/1534 [============================>.] - ETA: 0s - loss: 0.0594 - mean_absolute_error: 0.1894\n",
            "Epoch 00004: val_loss did not improve from 0.00785\n",
            "1534/1534 [==============================] - 12s 8ms/step - loss: 0.0594 - mean_absolute_error: 0.1893 - val_loss: 0.0080 - val_mean_absolute_error: 0.0657\n",
            "Epoch 5/20\n",
            "1524/1534 [============================>.] - ETA: 0s - loss: 0.0582 - mean_absolute_error: 0.1886\n",
            "Epoch 00005: val_loss did not improve from 0.00785\n",
            "1534/1534 [==============================] - 12s 8ms/step - loss: 0.0581 - mean_absolute_error: 0.1885 - val_loss: 0.0209 - val_mean_absolute_error: 0.1108\n",
            "Epoch 6/20\n",
            "1527/1534 [============================>.] - ETA: 0s - loss: 0.0527 - mean_absolute_error: 0.1812\n",
            "Epoch 00006: val_loss did not improve from 0.00785\n",
            "1534/1534 [==============================] - 12s 8ms/step - loss: 0.0527 - mean_absolute_error: 0.1812 - val_loss: 0.0239 - val_mean_absolute_error: 0.1183\n",
            "Epoch 7/20\n",
            "1532/1534 [============================>.] - ETA: 0s - loss: 0.0465 - mean_absolute_error: 0.1693\n",
            "Epoch 00007: val_loss did not improve from 0.00785\n",
            "1534/1534 [==============================] - 12s 8ms/step - loss: 0.0465 - mean_absolute_error: 0.1693 - val_loss: 0.0114 - val_mean_absolute_error: 0.0790\n",
            "Epoch 8/20\n",
            "1530/1534 [============================>.] - ETA: 0s - loss: 0.0465 - mean_absolute_error: 0.1708\n",
            "Epoch 00008: val_loss did not improve from 0.00785\n",
            "1534/1534 [==============================] - 12s 8ms/step - loss: 0.0465 - mean_absolute_error: 0.1709 - val_loss: 0.0234 - val_mean_absolute_error: 0.1235\n",
            "Epoch 9/20\n",
            "1526/1534 [============================>.] - ETA: 0s - loss: 0.0433 - mean_absolute_error: 0.1645\n",
            "Epoch 00009: val_loss did not improve from 0.00785\n",
            "1534/1534 [==============================] - 12s 8ms/step - loss: 0.0433 - mean_absolute_error: 0.1645 - val_loss: 0.0105 - val_mean_absolute_error: 0.0768\n",
            "Epoch 10/20\n",
            "1526/1534 [============================>.] - ETA: 0s - loss: 0.0421 - mean_absolute_error: 0.1614\n",
            "Epoch 00010: val_loss did not improve from 0.00785\n",
            "1534/1534 [==============================] - 12s 8ms/step - loss: 0.0420 - mean_absolute_error: 0.1613 - val_loss: 0.0113 - val_mean_absolute_error: 0.0813\n",
            "Epoch 11/20\n",
            "1529/1534 [============================>.] - ETA: 0s - loss: 0.0447 - mean_absolute_error: 0.1659\n",
            "Epoch 00011: val_loss did not improve from 0.00785\n",
            "1534/1534 [==============================] - 12s 8ms/step - loss: 0.0447 - mean_absolute_error: 0.1658 - val_loss: 0.0143 - val_mean_absolute_error: 0.0935\n",
            "Epoch 12/20\n",
            "1534/1534 [==============================] - ETA: 0s - loss: 0.0411 - mean_absolute_error: 0.1595\n",
            "Epoch 00012: val_loss did not improve from 0.00785\n",
            "1534/1534 [==============================] - 11s 7ms/step - loss: 0.0411 - mean_absolute_error: 0.1595 - val_loss: 0.0133 - val_mean_absolute_error: 0.0891\n",
            "439/439 [==============================] - 2s 4ms/step - loss: 0.0133 - mean_absolute_error: 0.0891\n"
          ],
          "name": "stdout"
        }
      ]
    },
    {
      "cell_type": "markdown",
      "metadata": {
        "id": "ED92qOvaGU5j"
      },
      "source": [
        "***5. CNN-LSTM***\n",
        "\n",
        "Long short-term memory recurrent neural networks are capable of automatically learning features from sequence data and support multiple-variate data. The recurrent LSTM layer processes temporal information arriving from two different sources: the present information arriving from lower layers and the processed past information arriving from the recurrent layer itself. To augment the data-processing capabilities of this layer, convolutional layers can be used for learning short term patterns (the temporal ordering of the data can be preserved through the usage of causal padding) as lower layers.  "
      ]
    },
    {
      "cell_type": "code",
      "metadata": {
        "id": "TSHC1M5vGS9W",
        "colab": {
          "base_uri": "https://localhost:8080/",
          "height": 1000
        },
        "outputId": "324f20af-b835-4637-9dd6-2d488359c3c6"
      },
      "source": [
        "cnn_lstm = tf.keras.models.Sequential([\n",
        "        tf.keras.layers.Conv1D(128, 1, activation='relu', kernel_initializer=\"he_uniform\", padding=\"causal\"),\n",
        "        tf.keras.layers.Conv1D(100, 5, activation='relu', kernel_initializer=\"he_uniform\", padding=\"causal\"),\n",
        "        tf.keras.layers.Conv1D(50, 1, activation='tanh', kernel_initializer='glorot_uniform', padding=\"causal\"),\n",
        "        tf.keras.layers.Flatten(),\n",
        "        tf.keras.layers.RepeatVector(1),\n",
        "        tf.keras.layers.LSTM(128, activation='tanh', kernel_initializer='glorot_uniform', return_sequences=True),\n",
        "        tf.keras.layers.TimeDistributed(tf.keras.layers.Dense(128, activation='relu', kernel_initializer=\"he_uniform\")),\n",
        "        tf.keras.layers.Dense(100, activation='selu', kernel_initializer=\"lecun_uniform\"),\n",
        "        tf.keras.layers.Dropout(rate=0.15),\n",
        "        tf.keras.layers.Dense(100, activation='selu', kernel_initializer=\"lecun_uniform\"),\n",
        "        tf.keras.layers.Dropout(rate=0.15),\n",
        "        tf.keras.layers.Dense(100, activation='selu', kernel_initializer=\"lecun_uniform\"),\n",
        "        tf.keras.layers.Dropout(rate=0.15),\n",
        "        tf.keras.layers.Dense(100, activation='selu', kernel_initializer=\"lecun_uniform\"),\n",
        "        tf.keras.layers.Dropout(rate=0.15),\n",
        "        tf.keras.layers.Dense(1)])\n",
        "\n",
        "\n",
        "\n",
        "history = compile_and_fit(cnn_lstm, single_step_window)\n",
        "cnn_lstm.summary()\n",
        "val_performance['CNN_LSTM'] = cnn_lstm.evaluate(single_step_window.val)\n",
        "performance['CNN_LSTM'] = cnn_lstm.evaluate(single_step_window.test, verbose=0)"
      ],
      "execution_count": null,
      "outputs": [
        {
          "output_type": "stream",
          "text": [
            "WARNING:tensorflow:`period` argument is deprecated. Please use `save_freq` to specify the frequency in number of batches seen.\n",
            "Epoch 1/20\n",
            "1534/1534 [==============================] - ETA: 0s - loss: 0.0359 - mean_absolute_error: 0.1356\n",
            "Epoch 00001: val_loss improved from inf to 0.02997, saving model to /content/drive/My Drive/DNN/Ball_improved/Benchmark_on_weather/dummy.h5\n",
            "1534/1534 [==============================] - 16s 11ms/step - loss: 0.0359 - mean_absolute_error: 0.1356 - val_loss: 0.0300 - val_mean_absolute_error: 0.1433\n",
            "Epoch 2/20\n",
            "1529/1534 [============================>.] - ETA: 0s - loss: 0.0220 - mean_absolute_error: 0.1100\n",
            "Epoch 00002: val_loss improved from 0.02997 to 0.02423, saving model to /content/drive/My Drive/DNN/Ball_improved/Benchmark_on_weather/dummy.h5\n",
            "1534/1534 [==============================] - 16s 10ms/step - loss: 0.0220 - mean_absolute_error: 0.1100 - val_loss: 0.0242 - val_mean_absolute_error: 0.1226\n",
            "Epoch 3/20\n",
            "1528/1534 [============================>.] - ETA: 0s - loss: 0.0179 - mean_absolute_error: 0.0992\n",
            "Epoch 00003: val_loss improved from 0.02423 to 0.00961, saving model to /content/drive/My Drive/DNN/Ball_improved/Benchmark_on_weather/dummy.h5\n",
            "1534/1534 [==============================] - 15s 10ms/step - loss: 0.0179 - mean_absolute_error: 0.0992 - val_loss: 0.0096 - val_mean_absolute_error: 0.0746\n",
            "Epoch 4/20\n",
            "1531/1534 [============================>.] - ETA: 0s - loss: 0.0166 - mean_absolute_error: 0.0957\n",
            "Epoch 00004: val_loss did not improve from 0.00961\n",
            "1534/1534 [==============================] - 16s 10ms/step - loss: 0.0166 - mean_absolute_error: 0.0957 - val_loss: 0.0103 - val_mean_absolute_error: 0.0759\n",
            "Epoch 5/20\n",
            "1532/1534 [============================>.] - ETA: 0s - loss: 0.0154 - mean_absolute_error: 0.0922\n",
            "Epoch 00005: val_loss improved from 0.00961 to 0.00766, saving model to /content/drive/My Drive/DNN/Ball_improved/Benchmark_on_weather/dummy.h5\n",
            "1534/1534 [==============================] - 15s 10ms/step - loss: 0.0154 - mean_absolute_error: 0.0922 - val_loss: 0.0077 - val_mean_absolute_error: 0.0627\n",
            "Epoch 6/20\n",
            "1529/1534 [============================>.] - ETA: 0s - loss: 0.0154 - mean_absolute_error: 0.0923\n",
            "Epoch 00006: val_loss did not improve from 0.00766\n",
            "1534/1534 [==============================] - 15s 10ms/step - loss: 0.0155 - mean_absolute_error: 0.0923 - val_loss: 0.0140 - val_mean_absolute_error: 0.0829\n",
            "Epoch 7/20\n",
            "1530/1534 [============================>.] - ETA: 0s - loss: 0.0156 - mean_absolute_error: 0.0925\n",
            "Epoch 00007: val_loss did not improve from 0.00766\n",
            "1534/1534 [==============================] - 15s 10ms/step - loss: 0.0156 - mean_absolute_error: 0.0926 - val_loss: 0.0078 - val_mean_absolute_error: 0.0643\n",
            "Epoch 8/20\n",
            "1531/1534 [============================>.] - ETA: 0s - loss: 0.0147 - mean_absolute_error: 0.0900\n",
            "Epoch 00008: val_loss did not improve from 0.00766\n",
            "1534/1534 [==============================] - 15s 10ms/step - loss: 0.0147 - mean_absolute_error: 0.0900 - val_loss: 0.0105 - val_mean_absolute_error: 0.0800\n",
            "Epoch 9/20\n",
            "1532/1534 [============================>.] - ETA: 0s - loss: 0.0148 - mean_absolute_error: 0.0901\n",
            "Epoch 00009: val_loss did not improve from 0.00766\n",
            "1534/1534 [==============================] - 15s 10ms/step - loss: 0.0148 - mean_absolute_error: 0.0901 - val_loss: 0.0144 - val_mean_absolute_error: 0.0951\n",
            "Epoch 10/20\n",
            "1534/1534 [==============================] - ETA: 0s - loss: 0.0143 - mean_absolute_error: 0.0885\n",
            "Epoch 00010: val_loss did not improve from 0.00766\n",
            "1534/1534 [==============================] - 16s 10ms/step - loss: 0.0143 - mean_absolute_error: 0.0885 - val_loss: 0.0163 - val_mean_absolute_error: 0.0959\n",
            "Epoch 11/20\n",
            "1531/1534 [============================>.] - ETA: 0s - loss: 0.0144 - mean_absolute_error: 0.0891\n",
            "Epoch 00011: val_loss did not improve from 0.00766\n",
            "1534/1534 [==============================] - 16s 11ms/step - loss: 0.0145 - mean_absolute_error: 0.0891 - val_loss: 0.0102 - val_mean_absolute_error: 0.0750\n",
            "Epoch 12/20\n",
            "1530/1534 [============================>.] - ETA: 0s - loss: 0.0145 - mean_absolute_error: 0.0888\n",
            "Epoch 00012: val_loss did not improve from 0.00766\n",
            "1534/1534 [==============================] - 16s 10ms/step - loss: 0.0145 - mean_absolute_error: 0.0888 - val_loss: 0.0245 - val_mean_absolute_error: 0.1340\n",
            "Epoch 13/20\n",
            "1528/1534 [============================>.] - ETA: 0s - loss: 0.0140 - mean_absolute_error: 0.0876\n",
            "Epoch 00013: val_loss did not improve from 0.00766\n",
            "1534/1534 [==============================] - 16s 10ms/step - loss: 0.0140 - mean_absolute_error: 0.0876 - val_loss: 0.0098 - val_mean_absolute_error: 0.0749\n",
            "Epoch 14/20\n",
            "1529/1534 [============================>.] - ETA: 0s - loss: 0.0146 - mean_absolute_error: 0.0893\n",
            "Epoch 00014: val_loss did not improve from 0.00766\n",
            "1534/1534 [==============================] - 15s 10ms/step - loss: 0.0146 - mean_absolute_error: 0.0893 - val_loss: 0.0082 - val_mean_absolute_error: 0.0674\n",
            "Epoch 15/20\n",
            "1534/1534 [==============================] - ETA: 0s - loss: 0.0140 - mean_absolute_error: 0.0877\n",
            "Epoch 00015: val_loss did not improve from 0.00766\n",
            "1534/1534 [==============================] - 16s 10ms/step - loss: 0.0140 - mean_absolute_error: 0.0877 - val_loss: 0.0087 - val_mean_absolute_error: 0.0701\n",
            "Model: \"sequential_6\"\n",
            "_________________________________________________________________\n",
            "Layer (type)                 Output Shape              Param #   \n",
            "=================================================================\n",
            "conv1d (Conv1D)              (None, 1, 128)            2560      \n",
            "_________________________________________________________________\n",
            "conv1d_1 (Conv1D)            (None, 1, 100)            64100     \n",
            "_________________________________________________________________\n",
            "conv1d_2 (Conv1D)            (None, 1, 50)             5050      \n",
            "_________________________________________________________________\n",
            "flatten_7 (Flatten)          (None, 50)                0         \n",
            "_________________________________________________________________\n",
            "repeat_vector (RepeatVector) (None, 1, 50)             0         \n",
            "_________________________________________________________________\n",
            "lstm (LSTM)                  (None, 1, 128)            91648     \n",
            "_________________________________________________________________\n",
            "time_distributed (TimeDistri (None, 1, 128)            16512     \n",
            "_________________________________________________________________\n",
            "dense_32 (Dense)             (None, 1, 100)            12900     \n",
            "_________________________________________________________________\n",
            "dropout_18 (Dropout)         (None, 1, 100)            0         \n",
            "_________________________________________________________________\n",
            "dense_33 (Dense)             (None, 1, 100)            10100     \n",
            "_________________________________________________________________\n",
            "dropout_19 (Dropout)         (None, 1, 100)            0         \n",
            "_________________________________________________________________\n",
            "dense_34 (Dense)             (None, 1, 100)            10100     \n",
            "_________________________________________________________________\n",
            "dropout_20 (Dropout)         (None, 1, 100)            0         \n",
            "_________________________________________________________________\n",
            "dense_35 (Dense)             (None, 1, 100)            10100     \n",
            "_________________________________________________________________\n",
            "dropout_21 (Dropout)         (None, 1, 100)            0         \n",
            "_________________________________________________________________\n",
            "dense_36 (Dense)             (None, 1, 1)              101       \n",
            "=================================================================\n",
            "Total params: 223,171\n",
            "Trainable params: 223,171\n",
            "Non-trainable params: 0\n",
            "_________________________________________________________________\n",
            "439/439 [==============================] - 3s 6ms/step - loss: 0.0087 - mean_absolute_error: 0.0701\n"
          ],
          "name": "stdout"
        }
      ]
    },
    {
      "cell_type": "markdown",
      "metadata": {
        "id": "NCRisFylQue5"
      },
      "source": [
        "***PERFORMANCE***\n",
        "\n",
        "With this dataset typically each of the models does slightly better than the one before it."
      ]
    },
    {
      "cell_type": "code",
      "metadata": {
        "id": "k0ZxO4-MQDtM",
        "colab": {
          "base_uri": "https://localhost:8080/",
          "height": 409
        },
        "outputId": "a08d3b94-e627-4531-f364-35a5a83288b0"
      },
      "source": [
        "x = np.arange(len(performance))\n",
        "width = 0.3\n",
        "metric_name = 'mean_absolute_error'\n",
        "metric_index = cnn_lstm.metrics_names.index('mean_absolute_error')\n",
        "val_mae = [v[metric_index] for v in val_performance.values()]\n",
        "test_mae = [v[metric_index] for v in performance.values()]\n",
        "\n",
        "plt.ylabel('mean_absolute_error [T (degC), normalized]')\n",
        "plt.bar(x - 0.17, val_mae, width, label='Validation')\n",
        "plt.bar(x + 0.17, test_mae, width, label='Test')\n",
        "plt.xticks(ticks=x, labels=performance.keys(),\n",
        "           rotation=45)\n",
        "_ = plt.legend()"
      ],
      "execution_count": null,
      "outputs": [
        {
          "output_type": "display_data",
          "data": {
            "image/png": "[encoded data removed]",
            "text/plain": [
              "<Figure size 576x432 with 1 Axes>"
            ]
          },
          "metadata": {
            "tags": [],
            "needs_background": "light"
          }
        }
      ]
    },
    {
      "cell_type": "code",
      "metadata": {
        "id": "PMWgN1h6iC34",
        "colab": {
          "base_uri": "https://localhost:8080/",
          "height": 54
        },
        "outputId": "716375f3-3d98-4857-eae2-779bdcd8ce80"
      },
      "source": [
        "val_performance.values()\n"
      ],
      "execution_count": null,
      "outputs": [
        {
          "output_type": "execute_result",
          "data": {
            "text/plain": [
              "dict_values([[0.008937636390328407, 0.07028112560510635], [0.006776686757802963, 0.059419285506010056], [0.016564717516303062, 0.09231763333082199], [0.01332618948072195, 0.08908339589834213], [0.008692856878042221, 0.07005798071622849]])"
            ]
          },
          "metadata": {
            "tags": []
          },
          "execution_count": 73
        }
      ]
    },
    {
      "cell_type": "code",
      "metadata": {
        "id": "THb0e9ilmx_V",
        "colab": {
          "base_uri": "https://localhost:8080/",
          "height": 54
        },
        "outputId": "2e922322-c89e-45c8-8026-9e03fb7f829d"
      },
      "source": [
        "performance.values()"
      ],
      "execution_count": null,
      "outputs": [
        {
          "output_type": "execute_result",
          "data": {
            "text/plain": [
              "dict_values([[0.008754887618124485, 0.0687599927186966], [0.0067503987811505795, 0.05989738181233406], [0.016530269756913185, 0.09491129964590073], [0.01480141468346119, 0.09417582303285599], [0.008278901688754559, 0.06925366073846817]])"
            ]
          },
          "metadata": {
            "tags": []
          },
          "execution_count": 74
        }
      ]
    },
    {
      "cell_type": "code",
      "metadata": {
        "id": "WpvwptHem5jj"
      },
      "source": [],
      "execution_count": null,
      "outputs": []
    }
  ]
}