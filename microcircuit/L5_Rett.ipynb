{
  "nbformat": 4,
  "nbformat_minor": 0,
  "metadata": {
    "colab": {
      "provenance": [],
      "collapsed_sections": [],
      "authorship_tag": "ABX9TyPBpX6ZYpLk/F1xUd7IlLsa",
      "include_colab_link": true
    },
    "kernelspec": {
      "name": "python3",
      "display_name": "Python 3"
    },
    "accelerator": "GPU"
  },
  "cells": [
    {
      "cell_type": "markdown",
      "metadata": {
        "id": "view-in-github",
        "colab_type": "text"
      },
      "source": [
        "<a href=\"https://colab.research.google.com/github/ViktorJOlah/Neuro_ANN/blob/main/microcircuit/L5_Rett.ipynb\" target=\"_parent\"><img src=\"https://colab.research.google.com/assets/colab-badge.svg\" alt=\"Open In Colab\"/></a>"
      ]
    },
    {
      "cell_type": "code",
      "metadata": {
        "colab": {
          "base_uri": "https://localhost:8080/"
        },
        "id": "kLLjHSeGMAs2",
        "outputId": "8871d991-91c1-4f7f-9a49-977c55c1c240"
      },
      "source": [
        "#this is for testing purposes, for getting the most out of GPU\n",
        "\n",
        "import tensorflow as tf\n",
        "tf.test.gpu_device_name()\n",
        "\n",
        "\n",
        "# memory footprint support libraries/code\n",
        "!ln -sf /opt/bin/nvidia-smi /usr/bin/nvidia-smi\n",
        "!pip install gputil\n",
        "!pip install psutil\n",
        "!pip install humanize\n",
        "import psutil\n",
        "import humanize\n",
        "import os\n",
        "\n",
        "import GPUtil as GPU\n",
        "GPUs = GPU.getGPUs()\n",
        "# XXX: only one GPU on Colab and isn’t guaranteed\n",
        "gpu = GPUs[0]\n",
        "def printm():\n",
        " process = psutil.Process(os.getpid())\n",
        " print(\"Gen RAM Free: \" + humanize.naturalsize( psutil.virtual_memory().available ), \" | Proc size: \" + humanize.naturalsize( process.memory_info().rss))\n",
        " print(\"GPU RAM Free: {0:.0f}MB | Used: {1:.0f}MB | Util {2:3.0f}% | Total {3:.0f}MB\".format(gpu.memoryFree, gpu.memoryUsed, gpu.memoryUtil*100, gpu.memoryTotal))\n",
        "printm() \n",
        "\"\"\"\n",
        "\n",
        "import tensorflow as tf\n",
        "#Get a handle to the attached TPU. On GCP it will be the CloudTPU itself\n",
        "resolver = tf.distribute.cluster_resolver.TPUClusterResolver(tpu=\"grpc://\" + os.environ[\"COLAB_TPU_ADDR\"])\n",
        "#Connect to the TPU handle and initialise it\n",
        "tf.config.experimental_connect_to_cluster(resolver)\n",
        "tf.tpu.experimental.initialize_tpu_system(resolver)\n",
        "\"\"\"\n",
        "\n",
        "\n",
        "\n",
        "\n",
        "from google.colab import drive\n",
        "drive.mount('/content/drive')"
      ],
      "execution_count": null,
      "outputs": [
        {
          "output_type": "stream",
          "text": [
            "Collecting gputil\n",
            "  Downloading https://files.pythonhosted.org/packages/ed/0e/5c61eedde9f6c87713e89d794f01e378cfd9565847d4576fa627d758c554/GPUtil-1.4.0.tar.gz\n",
            "Building wheels for collected packages: gputil\n",
            "  Building wheel for gputil (setup.py) ... \u001b[?25l\u001b[?25hdone\n",
            "  Created wheel for gputil: filename=GPUtil-1.4.0-cp36-none-any.whl size=7411 sha256=6007a7f6b0afabd5bdd079bcf45d9788fbaf09bcd91b674d6bd203c536207858\n",
            "  Stored in directory: /root/.cache/pip/wheels/3d/77/07/80562de4bb0786e5ea186911a2c831fdd0018bda69beab71fd\n",
            "Successfully built gputil\n",
            "Installing collected packages: gputil\n",
            "Successfully installed gputil-1.4.0\n",
            "Requirement already satisfied: psutil in /usr/local/lib/python3.6/dist-packages (5.4.8)\n",
            "Requirement already satisfied: humanize in /usr/local/lib/python3.6/dist-packages (0.5.1)\n",
            "Gen RAM Free: 12.2 GB  | Proc size: 1.0 GB\n",
            "GPU RAM Free: 14852MB | Used: 227MB | Util   2% | Total 15079MB\n",
            "Mounted at /content/drive\n"
          ],
          "name": "stdout"
        }
      ]
    },
    {
      "cell_type": "code",
      "metadata": {
        "id": "g_pSEzOHLY-L",
        "colab": {
          "base_uri": "https://localhost:8080/"
        },
        "outputId": "29bca907-127e-4b7f-b099-bab17faa4ff0"
      },
      "source": [
        "import numpy as np\n",
        "import os\n",
        "import sys\n",
        "import time\n",
        "import pandas as pd \n",
        "from tqdm._tqdm_notebook import tqdm_notebook\n",
        "import pickle\n",
        "from keras.models import Sequential, load_model\n",
        "from keras.layers import Dense, Dropout\n",
        "from keras.layers import LSTM\n",
        "from tensorflow.keras.callbacks import ModelCheckpoint, EarlyStopping, ReduceLROnPlateau, CSVLogger\n",
        "from keras import optimizers\n",
        "# from keras.wrappers.scikit_learn import KerasClassifier\n",
        "from sklearn.preprocessing import MinMaxScaler\n",
        "from sklearn.model_selection import train_test_split\n",
        "from sklearn.metrics import mean_squared_error\n",
        "import logging\n",
        "\n",
        "from keras.models import Sequential\n",
        "from keras.layers import Dense\n",
        "from keras.layers import Flatten\n",
        "from keras.layers import LSTM\n",
        "from keras.layers import RepeatVector\n",
        "from keras.layers import TimeDistributed\n",
        "from keras.layers.convolutional import Conv1D\n",
        "from keras.layers.convolutional import MaxPooling1D\n",
        "from keras.layers import LocallyConnected1D\n",
        "\n",
        "import tensorflow as tf\n",
        "\n",
        "import random\n",
        "\n",
        "import matplotlib.pyplot as plt\n",
        "import gc\n",
        "from collections import deque\n"
      ],
      "execution_count": null,
      "outputs": [
        {
          "output_type": "stream",
          "text": [
            "/usr/local/lib/python3.6/dist-packages/ipykernel_launcher.py:6: TqdmDeprecationWarning: This function will be removed in tqdm==5.0.0\n",
            "Please use `tqdm.notebook.*` instead of `tqdm._tqdm_notebook.*`\n",
            "  \n"
          ],
          "name": "stderr"
        }
      ]
    },
    {
      "cell_type": "code",
      "metadata": {
        "id": "utgvG5yILdDg"
      },
      "source": [
        "#we need to create the dataset as for ANN fitting, to initialize the ANNs with random voltages and inputs\n",
        "\n",
        "params = {\n",
        "    \"batch_size\": 64,\n",
        "    \"epochs\": 1,\n",
        "    \"lr\": 0.0010000,\n",
        "    \"time_steps\": 64,\n",
        "    \"rec_length\": 10000\n",
        "}\n",
        "\n",
        "\n",
        "TIME_STEPS = params[\"time_steps\"]\n",
        "BATCH_SIZE = params[\"batch_size\"]\n",
        "stime = time.time()\n",
        "steps_per_epoch = 2000\n",
        "\n",
        "def time_it(func):\n",
        "    def wrapper(*arg, **kw):\n",
        "        t1 = time.time()\n",
        "        res = func(*arg, **kw)\n",
        "        t2 = time.time()\n",
        "        print(t2 - t1)\n",
        "        return (t2 - t1), res, func.__name__\n",
        "    return wrapper\n",
        "\n",
        "\n",
        "def serve_CNN_LSTM(x):\n",
        "    return CNN_LSTM(x, training=False)\n",
        "\n",
        "\n",
        "\n",
        "def trim_dataset(mat,batch_size):\n",
        "\n",
        "    no_of_rows_drop = mat.shape[0]%batch_size\n",
        "    if no_of_rows_drop > 0:\n",
        "        return mat[:-no_of_rows_drop]\n",
        "    else:\n",
        "        return mat\n",
        "\n",
        "def build_timeseries(mat, y_col_index):\n",
        "\n",
        "    # total number of time-series samples would be len(mat) - TIME_STEPS\n",
        "    dim_0 = mat.shape[0] - TIME_STEPS\n",
        "    dim_1 = mat.shape[1]\n",
        "    x = np.zeros((dim_0, TIME_STEPS, dim_1))\n",
        "    y = np.zeros((dim_0,1))\n",
        "    print(\"dim_0\",dim_0)\n",
        "    counter = 0\n",
        "    for i in range(dim_0):\n",
        "        #get rid of contaminated results (ie: end of trace - beginning of trace samples)\n",
        "        x[counter] = mat[counter:TIME_STEPS+counter]\n",
        "        y[counter] = mat[TIME_STEPS+counter, y_col_index:1]\n",
        "        counter += 1\n",
        "            \n",
        "    print(\"length of time-series i/o\",x.shape,y.shape)\n",
        "    return x[:counter], y[:counter]\n",
        "\n"
      ],
      "execution_count": null,
      "outputs": []
    },
    {
      "cell_type": "code",
      "metadata": {
        "id": "2nIjBrKCLgTE"
      },
      "source": [
        "data = pd.read_csv('/content/drive/My Drive/DNN/L5_plasticity/processed_L5_final_new_1ms_below10Hz_50000.txt', sep=\" \", header=None, dtype='float16', nrows=50000)"
      ],
      "execution_count": null,
      "outputs": []
    },
    {
      "cell_type": "code",
      "metadata": {
        "id": "-vQVFEkELhqJ"
      },
      "source": [
        "\n",
        "def create_dataset(data1):\n",
        "\n",
        "  df_train, df_test = train_test_split(data1, train_size=0.9, test_size=0.1, shuffle=False)\n",
        "  print(f\"Train size is: {len(df_train)}  -- Test size is: {len(df_test)}\")\n",
        "\n",
        "\n",
        "\n",
        "  x_train = np.asarray(df_train, dtype='float16')\n",
        "  x_test = np.asarray(df_test, dtype='float16')\n",
        "\n",
        "  x_t, y_t = build_timeseries(x_train, 0)\n",
        "  \n",
        "  del x_train\n",
        "  del df_train\n",
        "\n",
        "\n",
        "  x_t = trim_dataset(x_t, BATCH_SIZE)\n",
        "  y_t = trim_dataset(y_t, BATCH_SIZE)\n",
        "  print(\"Batch trimmed size\",x_t.shape, y_t.shape)\n",
        "\n",
        "  #this is a must have, otherwise the model thinks that the 3 labels are sequential in time\n",
        "  y_t = np.reshape(y_t, [y_t.shape[0], 1, 1])\n",
        "\n",
        "  x_t = np.array(x_t, dtype='float16')\n",
        "  y_t = np.array(y_t, dtype='float16')\n",
        "\n",
        "  x_temp, y_temp = build_timeseries(x_test, 0)\n",
        "\n",
        "  y_temp = np.reshape(y_temp, [y_temp.shape[0], 1, 1])\n",
        "\n",
        "  x_val, x_test_t = np.split(trim_dataset(x_temp, BATCH_SIZE),2)\n",
        "  y_val, y_test_t = np.split(trim_dataset(y_temp, BATCH_SIZE),2)\n",
        "\n",
        "  print(\"Test size\", x_test_t.shape, y_test_t.shape, x_val.shape, y_val.shape)\n",
        "\n",
        "  x_val = np.array(x_val, dtype='float16')\n",
        "  y_val = np.array(y_val, dtype='float16')\n",
        "\n",
        "  del y_temp\n",
        "  del x_test\n",
        "  del df_test\n",
        "\n",
        "  return x_t, y_t, x_val, y_val\n",
        "\n"
      ],
      "execution_count": null,
      "outputs": []
    },
    {
      "cell_type": "code",
      "metadata": {
        "id": "AS2Wadn-Lksd"
      },
      "source": [
        "\n",
        "\n",
        "from tensorflow.keras import regularizers\n",
        "def create_model_CNN_LSTM2():\n",
        "\n",
        "    model = tf.keras.models.Sequential([\n",
        "        tf.keras.layers.Conv1D(512, 1, activation='relu', kernel_initializer=\"he_uniform\", padding=\"causal\", kernel_regularizer=regularizers.l1(1e-5), input_shape=(TIME_STEPS, x_t.shape[2])),\n",
        "        tf.keras.layers.Conv1D(256, 5, activation='relu', kernel_initializer=\"he_uniform\", padding=\"causal\"),\n",
        "        tf.keras.layers.Conv1D(128, 1, activation='tanh', kernel_initializer='glorot_uniform', padding=\"causal\"),\n",
        "        tf.keras.layers.Flatten(),\n",
        "        tf.keras.layers.RepeatVector(5),\n",
        "        tf.keras.layers.LSTM(128, activation='tanh', kernel_initializer='glorot_uniform', return_sequences=True),\n",
        "        tf.keras.layers.LSTM(128, activation='tanh', kernel_initializer='glorot_uniform', return_sequences=True),\n",
        "        tf.keras.layers.LSTM(128, activation='tanh', kernel_initializer='glorot_uniform', return_sequences=True),\n",
        "        tf.keras.layers.Dense(128, activation='relu', kernel_initializer=\"he_uniform\"),\n",
        "        tf.keras.layers.Dense(100, activation='selu', kernel_initializer=\"lecun_uniform\"),\n",
        "        tf.keras.layers.Dense(100, activation='selu', kernel_initializer=\"lecun_uniform\"),\n",
        "        tf.keras.layers.Dense(100, activation='selu', kernel_initializer=\"lecun_uniform\"),\n",
        "        tf.keras.layers.Dense(100, activation='selu', kernel_initializer=\"lecun_uniform\"),\n",
        "        tf.keras.layers.Dense(1)])\n",
        "    model.compile(loss=['mae'], optimizer=tf.keras.optimizers.Adamax(learning_rate=0.001))\n",
        "    return model\n",
        "\n",
        "   "
      ],
      "execution_count": null,
      "outputs": []
    },
    {
      "cell_type": "code",
      "metadata": {
        "id": "OTafl3jjLm95",
        "colab": {
          "base_uri": "https://localhost:8080/"
        },
        "outputId": "555e464c-3a45-415f-9c92-a3bb11a94654"
      },
      "source": [
        "#created dataaset and load ANN\n",
        "\n",
        "x_t, y_t, x_val, y_val = create_dataset(data[:])\n",
        "\n",
        "CNN_LSTM = create_model_CNN_LSTM2()\n",
        "CNN_LSTM.load_weights(\"/content/drive/My Drive/DNN/L5_plasticity/weights.best-300-0.000443-0.000364.h5\")"
      ],
      "execution_count": null,
      "outputs": [
        {
          "output_type": "stream",
          "text": [
            "Train size is: 45000  -- Test size is: 5000\n",
            "dim_0 44936\n",
            "length of time-series i/o (44936, 64, 201) (44936, 1)\n",
            "Batch trimmed size (44928, 64, 201) (44928, 1)\n",
            "dim_0 4936\n",
            "length of time-series i/o (4936, 64, 201) (4936, 1)\n",
            "Test size (2464, 64, 201) (2464, 1, 1) (2464, 64, 201) (2464, 1, 1)\n"
          ],
          "name": "stdout"
        }
      ]
    },
    {
      "cell_type": "code",
      "metadata": {
        "id": "kSwVXpaULog6"
      },
      "source": [
        "#define connectivity matrix with unidirectional and bidirectional connectivity set differently\n",
        "#connectivity: https://academic.oup.com/cercor/article/25/10/3561/388287\n",
        "\n",
        "def get_conn_matrix(arg1):\n",
        "\n",
        "    desired_uni_conn = arg1\n",
        "    desired_rec_conn = arg1*0.5\n",
        "\n",
        "    import random\n",
        "    random.seed(a=1, version=2)\n",
        "\n",
        "    connectivity_matrix = [[0 for k in range(150)] for i in range(150)]\n",
        "    connectivity_matrix = np.asarray(connectivity_matrix)\n",
        "\n",
        "    all_possible_uni_conn = 149*150\n",
        "    all_possible_rec_conn = 11026\n",
        "\n",
        "    number_of_desired_uni = all_possible_uni_conn * desired_uni_conn\n",
        "    number_of_desired_rec = all_possible_rec_conn * desired_rec_conn\n",
        "    uni_counter1 = 0\n",
        "    while uni_counter1 < number_of_desired_uni:\n",
        "        row = int(random.random()*150)\n",
        "        col = int(random.random()*150)\n",
        "        if connectivity_matrix[row][col] == 0 and connectivity_matrix[col][row] == 0:\n",
        "            connectivity_matrix[row][col] = 1\n",
        "            uni_counter1 += 1\n",
        "    \n",
        "    sanity_check = 0\n",
        "    for i in range(150):\n",
        "        sanity_check += np.sum(connectivity_matrix[i])\n",
        "\n",
        "    rec_counter1 = 0\n",
        "    while rec_counter1 < number_of_desired_rec:\n",
        "        row = int(random.random()*150)\n",
        "        col = int(random.random()*150)\n",
        "        if connectivity_matrix[row][col] == 0 and connectivity_matrix[col][row] == 0:\n",
        "            connectivity_matrix[row][col] = 1\n",
        "            connectivity_matrix[col][row] = 1\n",
        "            rec_counter1 += 1\n",
        "\n",
        "\n",
        "\n",
        "    uni_counter = 0\n",
        "    rec_counter = 0\n",
        "    for i in range(150):\n",
        "        for j in range(150):\n",
        "            if connectivity_matrix[i][j] + connectivity_matrix[j][i] == 1:\n",
        "                uni_counter += 1\n",
        "            if connectivity_matrix[i][j] == 1 and connectivity_matrix[j][i] == 1:\n",
        "                rec_counter += 1\n",
        "            \n",
        "\n",
        "    print(f\"unidirectional connectivity: {uni_counter/2/(149*150)}, reciprocal connectivity: {rec_counter/2/(11026)}\")\n",
        "\n",
        "    return connectivity_matrix\n",
        "\n"
      ],
      "execution_count": null,
      "outputs": []
    },
    {
      "cell_type": "code",
      "metadata": {
        "id": "wrdpw6noLq19"
      },
      "source": [
        "#definition of L5 plasticity mechanisms\n",
        "#https://www.frontiersin.org/articles/10.3389/fnsyn.2019.00029/full#h6\n",
        "\n",
        "def calc_efficacy(spike_times):\n",
        "    U = 0.38    # 0.01-1.0, delta: 0.05 --> 20\n",
        "    D = 365.6   # 20-400, delta: 20     --> 20\n",
        "    F = 25.71   # 10-50, delta: 2        --> 20      --> 8000 simulations\n",
        "\n",
        "    A = 1\n",
        "    u1 = U\n",
        "    R1 = 1\n",
        "\n",
        "    Am = 0.0001\n",
        "    un = 0\n",
        "    Rn = 0\n",
        "    Rm = 0\n",
        "\n",
        "\n",
        "    for place, val in enumerate(spike_times):\n",
        "        if place == 0:\n",
        "            Am = A*u1*R1\n",
        "            un = u1\n",
        "            Rn = R1\n",
        "            #print(Am/U)\n",
        "        else:\n",
        "            um = U + un*(1-U)*np.exp(-((val-spike_times[place-1])/F))\n",
        "            Rm = 1 + (Rn-Rn*un-1)*np.exp(-((val-spike_times[place-1])/D))\n",
        "            Am = A*um*Rm\n",
        "            \n",
        "            un = um\n",
        "            Rn = Rm\n",
        "            \n",
        "            #print(Am/U)\n",
        "    return Am/U\n"
      ],
      "execution_count": null,
      "outputs": []
    },
    {
      "cell_type": "code",
      "metadata": {
        "id": "sMMegg6fLs3L"
      },
      "source": [
        "#this is the main function for running the L5 microcircuit, with the previously established connectivity matrix and the set plasticity mechanism\n",
        "\n",
        "@time_it\n",
        "def run_circuit(conn_mat, eiscale):\n",
        "    return_spikes = []\n",
        "    updated_list = []\n",
        "    out = []\n",
        "    spike_matrix = [[]for i in range(150)]\n",
        "\n",
        "    eiscale_vec = []\n",
        "    for i in range(201):\n",
        "        if i < 151:\n",
        "            eiscale_vec.append(eiscale)\n",
        "        else:\n",
        "            eiscale_vec.append(0.5)\n",
        "\n",
        "    for i in range(150):\n",
        "        starting_point = 300+i*200\n",
        "        updated_list.append(deque(x_t[starting_point], maxlen=64))\n",
        "\n",
        "    for time1 in range(300):\n",
        "        scaling = 1.0005191447815092-0.00015243712218148255*(0.9947875832020883**time1)\n",
        "        new_mp = np.mean(serve_CNN_LSTM(np.asarray(updated_list).astype('float32')), axis=1)*scaling\n",
        "\n",
        "        out.append(new_mp)\n",
        "\n",
        "        spike_flag = []\n",
        "\n",
        "        for i in range(150):\n",
        "            counter = 300+i*200+time1+1\n",
        "            #new_input = x_t[counter][-1] * eiscale\n",
        "            new_input = np.multiply(x_t[counter][-1], eiscale_vec)\n",
        "            new_input[0] = new_mp[i]\n",
        "            if time1 == 100:            #this is the stimuli\n",
        "                new_input[1] = 0.05\n",
        "            updated_list[i].append(new_input)\n",
        "            if new_mp[i] > 0.3 and new_mp[i] < updated_list[i][-2][0]:\n",
        "                spike_flag.append(1)\n",
        "                spike_matrix[i].append(i)\n",
        "            else:\n",
        "                spike_flag.append(0)\n",
        "\n",
        "        syn_scales = []\n",
        "        for i in range(150):\n",
        "            #print(calc_efficacy(spike_matrix[i]))\n",
        "            syn_scales.append(calc_efficacy(spike_matrix[i]))\n",
        "            \n",
        "\n",
        "        for i in range(150):\n",
        "            for j in range(150):\n",
        "                #print(len(spike_flag))\n",
        "                #syn_scaling = 0.605\n",
        "\n",
        "                syn_scaling = eiscale*calc_efficacy(spike_matrix[j])\n",
        "\n",
        "                if conn_mat[i][j] == 1 and spike_flag[j] == 1:\n",
        "                    updated_list[i][-1][1] = 0.0036*syn_scaling\n",
        "                    updated_list[i][-1][2] = 0.0036*syn_scaling\n",
        "                    updated_list[i][-1][3] = 0.0036*syn_scaling\n",
        "                    updated_list[i][-1][4] = 0.0036*syn_scaling\n",
        "                    updated_list[i][-1][5] = 0.0036*syn_scaling\n",
        "                if conn_mat[i][j] == 1 and conn_mat[j][i] == 1 and spike_flag[j] == 1:\n",
        "                    updated_list[i][-1][1] = 0.0054*syn_scaling\n",
        "                    updated_list[i][-1][2] = 0.0054*syn_scaling\n",
        "                    updated_list[i][-1][3] = 0.0054*syn_scaling\n",
        "                    updated_list[i][-1][4] = 0.0054*syn_scaling\n",
        "                    updated_list[i][-1][5] = 0.0054*syn_scaling\n",
        "\n",
        "    spikes = [[] for i in range(150)]\n",
        "    \n",
        "    spike_counter = 0\n",
        "    for i in range(150):\n",
        "        out1 = [out[k][i][0] for k in range(300)]\n",
        "        vm_out = np.transpose(out1)\n",
        "\n",
        "        out_spikes = []\n",
        "\n",
        "        for index, val in enumerate(vm_out):\n",
        "            if index < 299:\n",
        "                if val > 0.3 and val > vm_out[index-1] and val > vm_out[index+1]:\n",
        "                    out_spikes.append(index)\n",
        "                    return_spikes.append(index)\n",
        "        spikes[i] = out_spikes\n",
        "        spike_counter += len(out_spikes)\n",
        "        \"\"\"\n",
        "        if i==0:\n",
        "            plt.plot(out1[:250])\n",
        "            plt.show()\n",
        "            representative_plot = out1[:250]\n",
        "    \"\"\"\n",
        "    lineSize = [1 for k in range(150)]\n",
        "    plt.eventplot(spikes, linelengths = lineSize)\n",
        "    plt.show()\n",
        "    \n",
        "    return return_spikes\n",
        "\n"
      ],
      "execution_count": null,
      "outputs": []
    },
    {
      "cell_type": "code",
      "metadata": {
        "colab": {
          "base_uri": "https://localhost:8080/",
          "height": 533
        },
        "id": "QO39KENlMdi0",
        "outputId": "1b852cf2-a34c-479e-9a9f-1af3f41f8e97"
      },
      "source": [
        "connectivity_matrix = get_conn_matrix(0.12)\n",
        "return_spikes = run_circuit(connectivity_matrix, 0.5)\n",
        "\n",
        "n, bins, patches = plt.hist(return_spikes, 60, facecolor='green', alpha=0.75)\n",
        "plt.show()\n",
        "\n",
        "np.savetxt(\"/content/drive/My Drive/DNN/L5_plasticity/raster.txt\", return_spikes)\n",
        "np.savetxt(\"/content/drive/My Drive/DNN/L5_plasticity/hist.txt\", np.transpose(np.vstack((bins[:-1], n))))\n"
      ],
      "execution_count": null,
      "outputs": [
        {
          "output_type": "stream",
          "text": [
            "unidirectional connectivity: 0.11910514541387024, reciprocal connectivity: 0.0607201160892436\n"
          ],
          "name": "stdout"
        },
        {
          "output_type": "display_data",
          "data": {
            "image/png": "[encoded data removed]",
            "text/plain": [
              "<Figure size 432x288 with 1 Axes>"
            ]
          },
          "metadata": {
            "tags": [],
            "needs_background": "light"
          }
        },
        {
          "output_type": "display_data",
          "data": {
            "image/png": "[encoded data removed]",
            "text/plain": [
              "<Figure size 432x288 with 1 Axes>"
            ]
          },
          "metadata": {
            "tags": [],
            "needs_background": "light"
          }
        }
      ]
    },
    {
      "cell_type": "code",
      "metadata": {
        "colab": {
          "base_uri": "https://localhost:8080/",
          "height": 282
        },
        "id": "WGaYS_XDP9bi",
        "outputId": "d08ed133-0e7c-423f-c2a6-70b0255e507b"
      },
      "source": [
        "connectivity_matrix = get_conn_matrix(0.05)\n",
        "return_spikes = run_circuit(connectivity_matrix, 0.5)\n",
        "\n",
        "n, bins, patches = plt.hist(return_spikes, 60, facecolor='green', alpha=0.75)\n",
        "plt.show()"
      ],
      "execution_count": null,
      "outputs": [
        {
          "output_type": "stream",
          "text": [
            "unidirectional connectivity: 0.0497986577181208, reciprocal connectivity: 0.025122437874115725\n"
          ],
          "name": "stdout"
        },
        {
          "output_type": "display_data",
          "data": {
            "image/png": "[encoded data removed]",
            "text/plain": [
              "<Figure size 432x288 with 1 Axes>"
            ]
          },
          "metadata": {
            "tags": [],
            "needs_background": "light"
          }
        }
      ]
    },
    {
      "cell_type": "code",
      "metadata": {
        "id": "9vad0Y-COu6L"
      },
      "source": [],
      "execution_count": null,
      "outputs": []
    }
  ]
}